{
 "cells": [
  {
   "cell_type": "code",
   "execution_count": 7,
   "metadata": {},
   "outputs": [],
   "source": [
    "import pandas as pd \n",
    "import numpy as np\n",
    "import tensorflow as tf\n",
    "import tensorflow.keras as keras\n",
    "import matplotlib.pyplot as plt\n",
    "import skimage.io as ioimage_stack\n",
    "from skimage import data, color\n",
    "from skimage.transform import rescale, resize, downscale_local_mean\n",
    "from PIL import Image\n",
    "import os\n",
    "import glob\n",
    "import uuid\n",
    "from tqdm import tqdm\n",
    "from pprint import pprint\n",
    "%matplotlib inline\n",
    "\n",
    "AUTOTUNE = tf.data.experimental.AUTOTUNE\n",
    "data_dir = \"E:/Datasets/coral-classifier/new-dataset - Copy - Copy\"\n",
    "CLASS_NAMES = os.listdir(data_dir)\n",
    "\n",
    "BATCH_SIZE = 32\n",
    "IMG_HEIGHT = 224\n",
    "IMG_WIDTH = 224\n",
    "\n",
    "\n",
    "def to_jpg_from(dateset_dir, classes, from_extension=\"jfif\"):\n",
    "    for cl in classes:\n",
    "        for file in glob.glob(f\"{dataset_dir}/{cl}/*/*.{from_extension}\"):\n",
    "            im = Image.open(file)\n",
    "            rgb_im = im.convert('RGB')\n",
    "            rgb_im.save(file.replace(from_extension, \"jpg\"), quality=100)\n",
    "\n",
    "\n",
    "def rename_files(dateset_dir, classes, extension=\"jpg\", with_delete=False):\n",
    "    for cl in classes:\n",
    "        for i, file in tqdm(enumerate(glob.glob(f\"{dateset_dir}/{cl}/*.{extension}\"))):\n",
    "            num = str(i).rjust(6, \"0\")\n",
    "            os.rename(file, f\"{dateset_dir}/{cl}/{cl}_{num}.{extension}\")\n",
    "            if with_delete:\n",
    "                os.remove(file)\n",
    "                \n",
    "    \n",
    "def show_batch(image_batch, label_batch):\n",
    "    plt.figure(figsize=(15,15))\n",
    "    for n in range(25):\n",
    "        ax = plt.subplot(5,5,n+1)\n",
    "        plt.imshow(image_batch[n])\n",
    "        plt.title(CLASS_NAMES[label_batch[n]==1][0].title())\n",
    "        plt.axis('off')\n",
    "        \n",
    "        \n",
    "def get_label(file_path):\n",
    "    # convert the path to a list of path components\n",
    "    parts = tf.strings.split(file_path, os.path.sep)\n",
    "    # The second to last is the class-directory\n",
    "    return parts[-2] == CLASS_NAMES\n",
    "\n",
    "\n",
    "def decode_img(img):\n",
    "    # convert the compressed string to a 3D uint8 tensor\n",
    "    img = tf.image.decode_jpeg(img, channels=3)\n",
    "    # Use `convert_image_dtype` to convert to floats in the [0,1] range.\n",
    "    img = tf.image.convert_image_dtype(img, tf.float32)\n",
    "    # resize the image to the desired size.\n",
    "    return tf.image.resize(img, [IMG_WIDTH, IMG_HEIGHT])\n",
    "\n",
    "\n",
    "def process_path(file_path):\n",
    "    label = get_label(file_path)\n",
    "    # load the raw data from the file as a string\n",
    "    img = tf.io.read_file(file_path)\n",
    "    img = decode_img(img)\n",
    "    return img, label\n",
    "\n",
    "\n",
    "def prepare_for_training(ds, cache=True, shuffle_buffer_size=1000):\n",
    "    # This is a small dataset, only load it once, and keep it in memory.\n",
    "    # use `.cache(filename)` to cache preprocessing work for datasets that don't\n",
    "    # fit in memory.\n",
    "    if cache:\n",
    "        if isinstance(cache, str):\n",
    "            ds = ds.cache(cache)\n",
    "        else:\n",
    "            ds = ds.cache()\n",
    "\n",
    "    ds = ds.shuffle(buffer_size=shuffle_buffer_size)\n",
    "    # Repeat forever\n",
    "    ds = ds.repeat()\n",
    "    ds = ds.batch(BATCH_SIZE)\n",
    "    # `prefetch` lets the dataset fetch batches in the background while the model\n",
    "    # is training.\n",
    "    ds = ds.prefetch(buffer_size=AUTOTUNE)\n",
    "\n",
    "    return ds"
   ]
  },
  {
   "cell_type": "code",
   "execution_count": 8,
   "metadata": {},
   "outputs": [
    {
     "name": "stdout",
     "output_type": "stream",
     "text": [
      "['anemones bubble tip',\n",
      " 'anemones carpet',\n",
      " 'anemones mini carpet',\n",
      " 'anemones rock',\n",
      " 'clams',\n",
      " 'lps acanthastrea',\n",
      " 'lps blastomussa',\n",
      " 'lps chalice',\n",
      " 'lps elegance',\n",
      " 'lps euphyllia',\n",
      " 'lps favia',\n",
      " 'lps goniopora',\n",
      " 'lps lobo',\n",
      " 'lps other',\n",
      " 'lps plate corals',\n",
      " 'lps scolymia',\n",
      " 'lps trachyphyllia & wellsophyllias',\n",
      " 'mushrooms',\n",
      " 'pallys & zoas',\n",
      " 'softies',\n",
      " 'sps acropora',\n",
      " 'sps montipora']\n"
     ]
    }
   ],
   "source": [
    "print(\"Classes:\")\n",
    "pprint(CLASS_NAMES)"
   ]
  },
  {
   "cell_type": "code",
   "execution_count": 11,
   "metadata": {},
   "outputs": [
    {
     "name": "stdout",
     "output_type": "stream",
     "text": [
      "b'E:\\\\Datasets\\\\coral-classifier\\\\new-dataset - Copy - Copy\\\\sps acropora\\\\acros2_41.png'\n",
      "b'E:\\\\Datasets\\\\coral-classifier\\\\new-dataset - Copy - Copy\\\\anemones mini carpet\\\\anemone_29.png'\n",
      "b'E:\\\\Datasets\\\\coral-classifier\\\\new-dataset - Copy - Copy\\\\lps favia\\\\favia1_34.png'\n",
      "b'E:\\\\Datasets\\\\coral-classifier\\\\new-dataset - Copy - Copy\\\\lps elegance\\\\elegance_6.png'\n",
      "b'E:\\\\Datasets\\\\coral-classifier\\\\new-dataset - Copy - Copy\\\\pallys & zoas\\\\zoa_33.png'\n"
     ]
    }
   ],
   "source": [
    "list_ds = tf.data.Dataset.list_files(f\"{data_dir}/*/*\")\n",
    "for f in list_ds.take(5):\n",
    "    print(f.numpy())"
   ]
  },
  {
   "cell_type": "code",
   "execution_count": 12,
   "metadata": {},
   "outputs": [
    {
     "name": "stdout",
     "output_type": "stream",
     "text": [
      "Image shape:  (224, 224, 3)\n",
      "Label:  [False False False False False False False False False False False False\n",
      " False False False False False False False False False  True]\n"
     ]
    }
   ],
   "source": [
    "# Set `num_parallel_calls` so multiple images are loaded/processed in parallel.\n",
    "labeled_ds = list_ds.map(process_path, num_parallel_calls=AUTOTUNE)\n",
    "\n",
    "for image, label in labeled_ds.take(1):\n",
    "    print(\"Image shape: \", image.numpy().shape)\n",
    "    print(\"Label: \", label.numpy())"
   ]
  },
  {
   "cell_type": "code",
   "execution_count": 14,
   "metadata": {},
   "outputs": [],
   "source": [
    "train_ds = prepare_for_training(labeled_ds)"
   ]
  },
  {
   "cell_type": "code",
   "execution_count": 15,
   "metadata": {},
   "outputs": [],
   "source": [
    "import time\n",
    "default_timeit_steps = 1000\n",
    "\n",
    "def timeit(ds, steps=default_timeit_steps):\n",
    "    start = time.time()\n",
    "    it = iter(ds)\n",
    "    for i in range(steps):\n",
    "        batch = next(it)\n",
    "        if i%10 == 0:\n",
    "            print('.',end='')\n",
    "    print()\n",
    "    end = time.time()\n",
    "\n",
    "    duration = end-start\n",
    "    print(\"{} batches: {} s\".format(steps, duration))\n",
    "    print(\"{:0.5f} Images/s\".format(BATCH_SIZE*steps/duration))"
   ]
  },
  {
   "cell_type": "code",
   "execution_count": 16,
   "metadata": {},
   "outputs": [
    {
     "name": "stdout",
     "output_type": "stream",
     "text": [
      "....................................................................................................\n",
      "1000 batches: 7.468278408050537 s\n",
      "4284.78938 Images/s\n"
     ]
    }
   ],
   "source": [
    "timeit(train_ds)"
   ]
  },
  {
   "cell_type": "code",
   "execution_count": null,
   "metadata": {},
   "outputs": [],
   "source": []
  }
 ],
 "metadata": {
  "kernelspec": {
   "display_name": "Python (deep)",
   "language": "python",
   "name": "deep"
  },
  "language_info": {
   "codemirror_mode": {
    "name": "ipython",
    "version": 3
   },
   "file_extension": ".py",
   "mimetype": "text/x-python",
   "name": "python",
   "nbconvert_exporter": "python",
   "pygments_lexer": "ipython3",
   "version": "3.7.6"
  }
 },
 "nbformat": 4,
 "nbformat_minor": 4
}
