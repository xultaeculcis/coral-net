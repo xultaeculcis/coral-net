{
 "cells": [
  {
   "cell_type": "code",
   "execution_count": 1,
   "metadata": {
    "ExecuteTime": {
     "end_time": "2020-04-04T11:03:06.812586Z",
     "start_time": "2020-04-04T11:03:06.156173Z"
    }
   },
   "outputs": [],
   "source": [
    "import hashlib\n",
    "from skimage.io import imread, imshow\n",
    "from skimage.transform import resize\n",
    "import matplotlib.pyplot as plt\n",
    "import matplotlib.gridspec as gridspec\n",
    "%matplotlib inline\n",
    "import time\n",
    "import numpy as np\n",
    "import os"
   ]
  },
  {
   "cell_type": "code",
   "execution_count": 17,
   "metadata": {
    "ExecuteTime": {
     "end_time": "2020-04-04T11:10:31.358139Z",
     "start_time": "2020-04-04T11:10:31.353137Z"
    }
   },
   "outputs": [],
   "source": [
    "def plot_dups(duplicates):\n",
    "    for file_indexes in duplicates[:30]:\n",
    "        try:\n",
    "\n",
    "            plt.subplot(121),plt.imshow(imread(file_list[file_indexes[1]]))\n",
    "            plt.title(file_indexes[1]), plt.xticks([]), plt.yticks([])\n",
    "\n",
    "            plt.subplot(122),plt.imshow(imread(file_list[file_indexes[0]]))\n",
    "            plt.title(str(file_indexes[0]) + ' duplicate'), plt.xticks([]), plt.yticks([])\n",
    "            plt.show()\n",
    "\n",
    "        except OSError as e:\n",
    "            continue\n",
    "            "
   ]
  },
  {
   "cell_type": "markdown",
   "metadata": {},
   "source": [
    "# Removing Duplicate Images Using Hashing"
   ]
  },
  {
   "cell_type": "code",
   "execution_count": 2,
   "metadata": {
    "ExecuteTime": {
     "end_time": "2020-04-04T11:03:08.674258Z",
     "start_time": "2020-04-04T11:03:08.671256Z"
    }
   },
   "outputs": [],
   "source": [
    "def file_hash(filepath):\n",
    "    with open(filepath, 'rb') as f:\n",
    "        return md5(f.read()).hexdigest()"
   ]
  },
  {
   "cell_type": "code",
   "execution_count": 11,
   "metadata": {
    "ExecuteTime": {
     "end_time": "2020-04-04T11:07:52.855382Z",
     "start_time": "2020-04-04T11:07:52.852383Z"
    }
   },
   "outputs": [
    {
     "name": "stdout",
     "output_type": "stream",
     "text": [
      "D:\\Repos\\DeepLearning\\coral-classifier\\src\\notebooks\n",
      "['Aqua SD - Photos _ Facebook_files', 'cherry', 'Cherry Corals - Photos _ Facebook_files', 'Corals.com - Photos _ Facebook_files', 'coralscom', 'Cornbred Corals - Photos _ Facebook_files', 'ec', 'ecc', 'ecc_pr', 'Eye Catching Coral - Photos _ Facebook_files', 'fragbox', 'Fragbox - Photos _ Facebook_files', 'IFragit Corals - Photos _ Facebook_files', 'jfox', 'Living Reef Orlando - Photos _ Facebook_files', 'Reefers Direct - Photos _ Facebook_files', 'reefnation', 'Tidal Gardens - Photos _ Facebook_files', 'Top Shelf Aquatics - Photos _ Facebook_files', 'uniquecorals - 9,060 Photos - 44 Reviews - Aquatic Pet Store -_files', 'Vivid Aquariums - Photos _ Facebook_files', 'wc', 'Whitecorals.com - Photos _ Facebook_files', 'World Wide Corals, Inc. - Photos _ Facebook_files', 'wwc']\n"
     ]
    }
   ],
   "source": [
    "main_dir = \"E:/Datasets/coral-classifier/download/dedup/\"\n",
    "imdirs = os.listdir(main_dir)\n",
    "print(os.getcwd())\n",
    "print(imdirs)"
   ]
  },
  {
   "cell_type": "code",
   "execution_count": 12,
   "metadata": {
    "ExecuteTime": {
     "end_time": "2020-04-04T11:08:12.341591Z",
     "start_time": "2020-04-04T11:08:12.338591Z"
    }
   },
   "outputs": [],
   "source": [
    "os.chdir(main_dir)"
   ]
  },
  {
   "cell_type": "code",
   "execution_count": 16,
   "metadata": {
    "ExecuteTime": {
     "end_time": "2020-04-04T11:09:07.003150Z",
     "start_time": "2020-04-04T11:09:06.850525Z"
    }
   },
   "outputs": [
    {
     "name": "stdout",
     "output_type": "stream",
     "text": [
      "Aqua SD - Photos _ Facebook_files 18470\n",
      "cherry 2579\n",
      "Cherry Corals - Photos _ Facebook_files 10200\n",
      "Corals.com - Photos _ Facebook_files 2458\n",
      "coralscom 2048\n",
      "Cornbred Corals - Photos _ Facebook_files 1891\n",
      "ec 2657\n",
      "ecc 275\n",
      "ecc_pr 351\n",
      "Eye Catching Coral - Photos _ Facebook_files 16495\n",
      "fragbox 347\n",
      "Fragbox - Photos _ Facebook_files 5747\n",
      "IFragit Corals - Photos _ Facebook_files 2050\n",
      "jfox 485\n",
      "Living Reef Orlando - Photos _ Facebook_files 2611\n",
      "Reefers Direct - Photos _ Facebook_files 1871\n",
      "reefnation 478\n",
      "Tidal Gardens - Photos _ Facebook_files 3669\n",
      "Top Shelf Aquatics - Photos _ Facebook_files 2637\n",
      "uniquecorals - 9,060 Photos - 44 Reviews - Aquatic Pet Store -_files 9632\n",
      "Vivid Aquariums - Photos _ Facebook_files 2550\n",
      "wc 12163\n",
      "Whitecorals.com - Photos _ Facebook_files 15794\n",
      "World Wide Corals, Inc. - Photos _ Facebook_files 12984\n",
      "wwc 2147\n",
      "Total: 132589\n"
     ]
    }
   ],
   "source": [
    "total_files = 0\n",
    "for imdir in imdirs:\n",
    "    file_list = os.listdir(imdir)\n",
    "    print(imdir, len(file_list))\n",
    "    total_files += len(file_list)\n",
    "    \n",
    "print(\"Total:\", total_files)"
   ]
  },
  {
   "cell_type": "code",
   "execution_count": null,
   "metadata": {
    "ExecuteTime": {
     "start_time": "2020-04-04T11:14:58.372Z"
    }
   },
   "outputs": [
    {
     "name": "stderr",
     "output_type": "stream",
     "text": [
      "18470it [00:00, 89119.99it/s]\n",
      "2579it [00:00, 83192.54it/s]\n",
      "10200it [00:00, 95331.46it/s]\n",
      "2458it [00:00, 94518.44it/s]\n",
      "0it [00:00, ?it/s]"
     ]
    }
   ],
   "source": [
    "import hashlib, os\n",
    "from tqdm import tqdm\n",
    "\n",
    "for imdir in imdirs:\n",
    "    duplicates = []\n",
    "    hash_keys = dict()\n",
    "    # find dups\n",
    "    for index, filename in  tqdm(enumerate(os.listdir(imdir))):  #listdir('.') = current directory\n",
    "        if os.path.isfile(filename):\n",
    "            with open(filename, 'rb') as f:\n",
    "                filehash = hashlib.md5(f.read()).hexdigest()\n",
    "            if filehash not in hash_keys: \n",
    "                hash_keys[filehash] = index\n",
    "            else:\n",
    "                duplicates.append((index,hash_keys[filehash]))\n",
    "    # plot and remove            \n",
    "    plot_dups(duplicates)\n",
    "    for index in duplicates:\n",
    "        os.remove(file_list[index[0]])"
   ]
  },
  {
   "cell_type": "code",
   "execution_count": 21,
   "metadata": {
    "ExecuteTime": {
     "end_time": "2020-04-04T11:14:11.694968Z",
     "start_time": "2020-04-04T11:14:11.541968Z"
    }
   },
   "outputs": [
    {
     "name": "stdout",
     "output_type": "stream",
     "text": [
      "E:\\Datasets\\coral-classifier\\download\\dedup\n",
      "['Aqua SD - Photos _ Facebook_files', 'cherry', 'Cherry Corals - Photos _ Facebook_files', 'Corals.com - Photos _ Facebook_files', 'coralscom', 'Cornbred Corals - Photos _ Facebook_files', 'ec', 'ecc', 'ecc_pr', 'Eye Catching Coral - Photos _ Facebook_files', 'fragbox', 'Fragbox - Photos _ Facebook_files', 'IFragit Corals - Photos _ Facebook_files', 'jfox', 'Living Reef Orlando - Photos _ Facebook_files', 'Reefers Direct - Photos _ Facebook_files', 'reefnation', 'Tidal Gardens - Photos _ Facebook_files', 'Top Shelf Aquatics - Photos _ Facebook_files', 'uniquecorals - 9,060 Photos - 44 Reviews - Aquatic Pet Store -_files', 'Vivid Aquariums - Photos _ Facebook_files', 'wc', 'Whitecorals.com - Photos _ Facebook_files', 'World Wide Corals, Inc. - Photos _ Facebook_files', 'wwc']\n",
      "Aqua SD - Photos _ Facebook_files 18470\n",
      "cherry 2579\n",
      "Cherry Corals - Photos _ Facebook_files 10200\n",
      "Corals.com - Photos _ Facebook_files 2458\n",
      "coralscom 2048\n",
      "Cornbred Corals - Photos _ Facebook_files 1891\n",
      "ec 2657\n",
      "ecc 275\n",
      "ecc_pr 351\n",
      "Eye Catching Coral - Photos _ Facebook_files 16495\n",
      "fragbox 347\n",
      "Fragbox - Photos _ Facebook_files 5747\n",
      "IFragit Corals - Photos _ Facebook_files 2050\n",
      "jfox 485\n",
      "Living Reef Orlando - Photos _ Facebook_files 2611\n",
      "Reefers Direct - Photos _ Facebook_files 1871\n",
      "reefnation 478\n",
      "Tidal Gardens - Photos _ Facebook_files 3669\n",
      "Top Shelf Aquatics - Photos _ Facebook_files 2637\n",
      "uniquecorals - 9,060 Photos - 44 Reviews - Aquatic Pet Store -_files 9632\n",
      "Vivid Aquariums - Photos _ Facebook_files 2550\n",
      "wc 12163\n",
      "Whitecorals.com - Photos _ Facebook_files 15794\n",
      "World Wide Corals, Inc. - Photos _ Facebook_files 12984\n",
      "wwc 2147\n",
      "Total: 132589\n"
     ]
    }
   ],
   "source": [
    "main_dir = \"E:/Datasets/coral-classifier/download/dedup/\"\n",
    "imdirs = os.listdir(main_dir)\n",
    "print(os.getcwd())\n",
    "print(imdirs)\n",
    "\n",
    "total_files = 0\n",
    "for imdir in imdirs:\n",
    "    file_list = os.listdir(imdir)\n",
    "    print(imdir, len(file_list))\n",
    "    total_files += len(file_list)\n",
    "    \n",
    "print(\"Total:\", total_files)"
   ]
  },
  {
   "cell_type": "code",
   "execution_count": null,
   "metadata": {},
   "outputs": [],
   "source": []
  }
 ],
 "metadata": {
  "kernelspec": {
   "display_name": "Python (deep)",
   "language": "python",
   "name": "deep"
  },
  "language_info": {
   "codemirror_mode": {
    "name": "ipython",
    "version": 3
   },
   "file_extension": ".py",
   "mimetype": "text/x-python",
   "name": "python",
   "nbconvert_exporter": "python",
   "pygments_lexer": "ipython3",
   "version": "3.7.6"
  },
  "toc": {
   "base_numbering": 1,
   "nav_menu": {},
   "number_sections": true,
   "sideBar": true,
   "skip_h1_title": false,
   "title_cell": "Table of Contents",
   "title_sidebar": "Contents",
   "toc_cell": false,
   "toc_position": {},
   "toc_section_display": true,
   "toc_window_display": false
  },
  "varInspector": {
   "cols": {
    "lenName": 16,
    "lenType": 16,
    "lenVar": 40
   },
   "kernels_config": {
    "python": {
     "delete_cmd_postfix": "",
     "delete_cmd_prefix": "del ",
     "library": "var_list.py",
     "varRefreshCmd": "print(var_dic_list())"
    },
    "r": {
     "delete_cmd_postfix": ") ",
     "delete_cmd_prefix": "rm(",
     "library": "var_list.r",
     "varRefreshCmd": "cat(var_dic_list()) "
    }
   },
   "types_to_exclude": [
    "module",
    "function",
    "builtin_function_or_method",
    "instance",
    "_Feature"
   ],
   "window_display": false
  }
 },
 "nbformat": 4,
 "nbformat_minor": 2
}
