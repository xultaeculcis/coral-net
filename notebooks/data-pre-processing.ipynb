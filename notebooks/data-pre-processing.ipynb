{
 "cells": [
  {
   "cell_type": "code",
   "execution_count": 2,
   "metadata": {
    "ExecuteTime": {
     "end_time": "2020-03-19T17:11:10.469712Z",
     "start_time": "2020-03-19T17:11:10.463713Z"
    }
   },
   "outputs": [],
   "source": [
    "import imgaug as ia\n",
    "import imgaug.augmenters as iaa\n",
    "import numpy as np\n",
    "import skimage.io as io\n",
    "from tqdm import tqdm "
   ]
  },
  {
   "cell_type": "code",
   "execution_count": 28,
   "metadata": {},
   "outputs": [
    {
     "name": "stdout",
     "output_type": "stream",
     "text": [
      "['E:/Datasets/coral-classifier/final_dataset_merged/acan', 'E:/Datasets/coral-classifier/final_dataset_merged/acro', 'E:/Datasets/coral-classifier/final_dataset_merged/chalice', 'E:/Datasets/coral-classifier/final_dataset_merged/hammer', 'E:/Datasets/coral-classifier/final_dataset_merged/monti', 'E:/Datasets/coral-classifier/final_dataset_merged/torch', 'E:/Datasets/coral-classifier/final_dataset_merged/zoa']\n"
     ]
    }
   ],
   "source": [
    "data_dir = \"E:/Datasets/coral-classifier/final_dataset_merged\"\n",
    "augmented_data_dir = \"E:/Datasets/coral-classifier/augmented_dataset\"\n",
    "classes = [\"acan\", \"acro\", \"chalice\", \"hammer\", \"monti\", \"torch\", \"zoa\"]\n",
    "\n",
    "dirs = [data_dir + \"/\" + c for c in classes ]\n",
    "print(dirs)\n",
    "\n",
    "class_images = {}\n",
    "for cl, data_path in zip(classes, dirs):\n",
    "    class_images[cl] = np.array(io.collection.glob(data_path + \"/*.jpg\"))"
   ]
  },
  {
   "cell_type": "code",
   "execution_count": 33,
   "metadata": {},
   "outputs": [],
   "source": [
    "counts = [len(value) for key, value in class_images.items()]"
   ]
  },
  {
   "cell_type": "code",
   "execution_count": 36,
   "metadata": {},
   "outputs": [],
   "source": [
    "min_count = min(counts)"
   ]
  },
  {
   "cell_type": "code",
   "execution_count": 45,
   "metadata": {},
   "outputs": [],
   "source": [
    "from sklearn.model_selection import train_test_split\n",
    "sets = {}\n",
    "for key, value in class_images.items():\n",
    "    X = value\n",
    "    y = [key for item in value]\n",
    "    \n",
    "    X_train, X_test, y_train, y_test = train_test_split(X, y, test_size=0.2, random_state=1)\n",
    "\n",
    "    X_train, X_val, y_train, y_val = train_test_split(X_train, y_train, test_size=0.2, random_state=1)\n",
    "        \n",
    "    sets[key + \"_train\"] = X_train\n",
    "    sets[key + \"_test\"] = X_test\n",
    "    sets[key + \"_val\"] = X_val"
   ]
  },
  {
   "cell_type": "code",
   "execution_count": 46,
   "metadata": {},
   "outputs": [
    {
     "name": "stdout",
     "output_type": "stream",
     "text": [
      "acan_train -> 389\n",
      "acan_test -> 122\n",
      "acan_val -> 98\n",
      "acro_train -> 1507\n",
      "acro_test -> 471\n",
      "acro_val -> 377\n",
      "chalice_train -> 527\n",
      "chalice_test -> 165\n",
      "chalice_val -> 132\n",
      "hammer_train -> 393\n",
      "hammer_test -> 124\n",
      "hammer_val -> 99\n",
      "monti_train -> 735\n",
      "monti_test -> 230\n",
      "monti_val -> 184\n",
      "torch_train -> 449\n",
      "torch_test -> 141\n",
      "torch_val -> 113\n",
      "zoa_train -> 784\n",
      "zoa_test -> 245\n",
      "zoa_val -> 196\n"
     ]
    }
   ],
   "source": [
    "for key, value in sets.items():\n",
    "    print(key, \"->\", len(value))"
   ]
  },
  {
   "cell_type": "code",
   "execution_count": null,
   "metadata": {},
   "outputs": [],
   "source": []
  }
 ],
 "metadata": {
  "kernelspec": {
   "display_name": "Python (deep)",
   "language": "python",
   "name": "deep"
  },
  "language_info": {
   "codemirror_mode": {
    "name": "ipython",
    "version": 3
   },
   "file_extension": ".py",
   "mimetype": "text/x-python",
   "name": "python",
   "nbconvert_exporter": "python",
   "pygments_lexer": "ipython3",
   "version": "3.7.6"
  },
  "toc": {
   "base_numbering": 1,
   "nav_menu": {},
   "number_sections": true,
   "sideBar": true,
   "skip_h1_title": false,
   "title_cell": "Table of Contents",
   "title_sidebar": "Contents",
   "toc_cell": false,
   "toc_position": {},
   "toc_section_display": true,
   "toc_window_display": false
  },
  "varInspector": {
   "cols": {
    "lenName": 16,
    "lenType": 16,
    "lenVar": 40
   },
   "kernels_config": {
    "python": {
     "delete_cmd_postfix": "",
     "delete_cmd_prefix": "del ",
     "library": "var_list.py",
     "varRefreshCmd": "print(var_dic_list())"
    },
    "r": {
     "delete_cmd_postfix": ") ",
     "delete_cmd_prefix": "rm(",
     "library": "var_list.r",
     "varRefreshCmd": "cat(var_dic_list()) "
    }
   },
   "types_to_exclude": [
    "module",
    "function",
    "builtin_function_or_method",
    "instance",
    "_Feature"
   ],
   "window_display": false
  }
 },
 "nbformat": 4,
 "nbformat_minor": 4
}
