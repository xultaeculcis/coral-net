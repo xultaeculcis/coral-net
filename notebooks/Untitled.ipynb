{
 "cells": [
  {
   "cell_type": "code",
   "execution_count": 1,
   "metadata": {
    "ExecuteTime": {
     "end_time": "2020-08-16T18:56:14.471052Z",
     "start_time": "2020-08-16T18:56:14.468342Z"
    }
   },
   "outputs": [],
   "source": [
    "import os \n",
    "import glob\n",
    "import shutil"
   ]
  },
  {
   "cell_type": "code",
   "execution_count": 3,
   "metadata": {
    "ExecuteTime": {
     "end_time": "2020-08-16T18:57:09.797256Z",
     "start_time": "2020-08-16T18:57:09.790128Z"
    }
   },
   "outputs": [
    {
     "data": {
      "text/plain": [
       "['Acanthastrea',\n",
       " 'Acanthophyllia',\n",
       " 'Acropora',\n",
       " 'Alveopora & Goniopora',\n",
       " 'Blastomussa',\n",
       " 'Bubble Tip Anemone',\n",
       " 'Bubble coral',\n",
       " 'Candy cane coral',\n",
       " 'Carpet Anemone',\n",
       " 'Chalice',\n",
       " 'Cyphastrea',\n",
       " 'Discosoma Mushroom',\n",
       " 'Elegance coral',\n",
       " 'Euphyllia',\n",
       " 'Favia',\n",
       " 'Gorgonia',\n",
       " 'Leptastrea',\n",
       " 'Leptoseries',\n",
       " 'Lobophyllia Trachyphyllia & Wellsophyllia',\n",
       " 'Maze Brain coral Platygyra',\n",
       " 'Mini Carpet Anemone',\n",
       " 'Montipora',\n",
       " 'Other',\n",
       " 'Pavona',\n",
       " 'Plate coral Fungia',\n",
       " 'Porites',\n",
       " 'Psammacora',\n",
       " 'Rhodactis Mushroom',\n",
       " 'Ricordea Mushroom',\n",
       " 'Rock Flower Anemone',\n",
       " 'Scolymia',\n",
       " 'Scroll Corals Turbinaria',\n",
       " 'Star polyps',\n",
       " 'Styllopora & Pocillipora',\n",
       " 'Sun coral',\n",
       " 'Toadstool coral',\n",
       " 'Tridacna clams',\n",
       " 'Zoa']"
      ]
     },
     "execution_count": 3,
     "metadata": {},
     "output_type": "execute_result"
    }
   ],
   "source": [
    "classes = sorted(os.listdir(\"../datasets/train/\"))\n",
    "classes"
   ]
  },
  {
   "cell_type": "code",
   "execution_count": 4,
   "metadata": {
    "ExecuteTime": {
     "end_time": "2020-08-16T18:58:51.659140Z",
     "start_time": "2020-08-16T18:58:51.653578Z"
    }
   },
   "outputs": [],
   "source": [
    "for c in classes:\n",
    "    try:\n",
    "        os.mkdir(f\"../datasets/data-lake/{c}\")\n",
    "    except:\n",
    "        pass"
   ]
  },
  {
   "cell_type": "code",
   "execution_count": null,
   "metadata": {},
   "outputs": [],
   "source": []
  }
 ],
 "metadata": {
  "hide_input": false,
  "kernelspec": {
   "display_name": "Python 3",
   "language": "python",
   "name": "python3"
  },
  "language_info": {
   "codemirror_mode": {
    "name": "ipython",
    "version": 3
   },
   "file_extension": ".py",
   "mimetype": "text/x-python",
   "name": "python",
   "nbconvert_exporter": "python",
   "pygments_lexer": "ipython3",
   "version": "3.7.7"
  }
 },
 "nbformat": 4,
 "nbformat_minor": 4
}
