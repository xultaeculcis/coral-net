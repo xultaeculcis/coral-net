{
 "cells": [
  {
   "cell_type": "code",
   "execution_count": 1,
   "metadata": {
    "collapsed": true
   },
   "outputs": [],
   "source": [
    "import pandas as pd"
   ]
  },
  {
   "cell_type": "code",
   "execution_count": 2,
   "outputs": [],
   "source": [
    "csv = \"../datasets/scrape/worldwidecorals.com.csv\"\n",
    "df = pd.read_csv(csv)"
   ],
   "metadata": {
    "collapsed": false,
    "pycharm": {
     "name": "#%%\n"
    }
   }
  },
  {
   "cell_type": "code",
   "execution_count": 3,
   "outputs": [
    {
     "data": {
      "text/plain": "              Code               Collection      Category  \\\n0      W-100820-05  Acropora Coral for Sale  WYSIWYG Frag   \n1      W-100720-02  Acropora Coral for Sale  WYSIWYG Frag   \n2      W-100620-14  Acropora Coral for Sale  WYSIWYG Frag   \n3      W-100620-02  Acropora Coral for Sale  WYSIWYG Frag   \n4      W-100520-01  Acropora Coral for Sale  WYSIWYG Frag   \n...            ...                      ...           ...   \n12175  W-062120-11                      All  WYSIWYG Frag   \n12176  W-080520-11                      All  WYSIWYG Frag   \n12177   PCK-ZOAPCK                      All          Pack   \n12178    PCK-ZRAND                      All          Pack   \n12179  W-091720-12                      All  WYSIWYG Frag   \n\n                                   Name   Variant Name  Price In Stock  \\\n0              WWC Juicy Fruit Acropora  Default Title  199.0      Yes   \n1             WWC Pink Passion Acropora  Default Title  199.0      Yes   \n2                WWC Bulbasaur Acropora  Default Title   79.0      Yes   \n3      Electric Bugaloo Tenuis Acropora  Default Title   99.0      Yes   \n4              WWC Juicy Fruit Acropora  Default Title  199.0      Yes   \n...                                 ...            ...    ...      ...   \n12175         Zebra Love Flower Anemone  Default Title   99.0       No   \n12176                          Zoanthid  Default Title  129.0       No   \n12177                   Zoanthid 5 Pack  Default Title  249.0       No   \n12178                Zoanthid Frag Pack  Default Title   99.0      Yes   \n12179         Zombie Apocalypse Chalice  Default Title   99.0      Yes   \n\n                                                     URL  \\\n0      https://worldwidecorals.com/products/wwc-juicy...   \n1      https://worldwidecorals.com/products/wwc-pink-...   \n2      https://worldwidecorals.com/products/wwc-blue-...   \n3      https://worldwidecorals.com/products/electric-...   \n4      https://worldwidecorals.com/products/wwc-juicy...   \n...                                                  ...   \n12175  https://worldwidecorals.com/products/zebra-lov...   \n12176  https://worldwidecorals.com/products/zoanthid-...   \n12177  https://worldwidecorals.com/products/zoanthid-...   \n12178  https://worldwidecorals.com/products/zoanthid-...   \n12179  https://worldwidecorals.com/products/zombie-ap...   \n\n                                               Image URL  \\\n0      https://cdn.shopify.com/s/files/1/0021/4958/09...   \n1      https://cdn.shopify.com/s/files/1/0021/4958/09...   \n2      https://cdn.shopify.com/s/files/1/0021/4958/09...   \n3      https://cdn.shopify.com/s/files/1/0021/4958/09...   \n4      https://cdn.shopify.com/s/files/1/0021/4958/09...   \n...                                                  ...   \n12175  https://cdn.shopify.com/s/files/1/0021/4958/09...   \n12176  https://cdn.shopify.com/s/files/1/0021/4958/09...   \n12177  https://cdn.shopify.com/s/files/1/0021/4958/09...   \n12178  https://cdn.shopify.com/s/files/1/0021/4958/09...   \n12179  https://cdn.shopify.com/s/files/1/0021/4958/09...   \n\n                                                    Body  \n0                 WYSIWYG and fully aquacultured by WWC!  \n1                 WYSIWYG and fully aquacultured by WWC!  \n2                 WYSIWYG and fully aquacultured by WWC!  \n3                 WYSIWYG and fully aquacultured by WWC!  \n4                 WYSIWYG and fully aquacultured by WWC!  \n...                                                  ...  \n12175  WYSIWYG and fully conditioned and ready for li...  \n12176             WYSIWYG and fully aquacultured by WWC!  \n12177  <p>This pack consists of 1 frag each of WWC Ta...  \n12178  You will receive one 2-3+ polyp live coral fra...  \n12179             WYSIWYG and fully aquacultured by WWC!  \n\n[12180 rows x 10 columns]",
      "text/html": "<div>\n<style scoped>\n    .dataframe tbody tr th:only-of-type {\n        vertical-align: middle;\n    }\n\n    .dataframe tbody tr th {\n        vertical-align: top;\n    }\n\n    .dataframe thead th {\n        text-align: right;\n    }\n</style>\n<table border=\"1\" class=\"dataframe\">\n  <thead>\n    <tr style=\"text-align: right;\">\n      <th></th>\n      <th>Code</th>\n      <th>Collection</th>\n      <th>Category</th>\n      <th>Name</th>\n      <th>Variant Name</th>\n      <th>Price</th>\n      <th>In Stock</th>\n      <th>URL</th>\n      <th>Image URL</th>\n      <th>Body</th>\n    </tr>\n  </thead>\n  <tbody>\n    <tr>\n      <th>0</th>\n      <td>W-100820-05</td>\n      <td>Acropora Coral for Sale</td>\n      <td>WYSIWYG Frag</td>\n      <td>WWC Juicy Fruit Acropora</td>\n      <td>Default Title</td>\n      <td>199.0</td>\n      <td>Yes</td>\n      <td>https://worldwidecorals.com/products/wwc-juicy...</td>\n      <td>https://cdn.shopify.com/s/files/1/0021/4958/09...</td>\n      <td>WYSIWYG and fully aquacultured by WWC!</td>\n    </tr>\n    <tr>\n      <th>1</th>\n      <td>W-100720-02</td>\n      <td>Acropora Coral for Sale</td>\n      <td>WYSIWYG Frag</td>\n      <td>WWC Pink Passion Acropora</td>\n      <td>Default Title</td>\n      <td>199.0</td>\n      <td>Yes</td>\n      <td>https://worldwidecorals.com/products/wwc-pink-...</td>\n      <td>https://cdn.shopify.com/s/files/1/0021/4958/09...</td>\n      <td>WYSIWYG and fully aquacultured by WWC!</td>\n    </tr>\n    <tr>\n      <th>2</th>\n      <td>W-100620-14</td>\n      <td>Acropora Coral for Sale</td>\n      <td>WYSIWYG Frag</td>\n      <td>WWC Bulbasaur Acropora</td>\n      <td>Default Title</td>\n      <td>79.0</td>\n      <td>Yes</td>\n      <td>https://worldwidecorals.com/products/wwc-blue-...</td>\n      <td>https://cdn.shopify.com/s/files/1/0021/4958/09...</td>\n      <td>WYSIWYG and fully aquacultured by WWC!</td>\n    </tr>\n    <tr>\n      <th>3</th>\n      <td>W-100620-02</td>\n      <td>Acropora Coral for Sale</td>\n      <td>WYSIWYG Frag</td>\n      <td>Electric Bugaloo Tenuis Acropora</td>\n      <td>Default Title</td>\n      <td>99.0</td>\n      <td>Yes</td>\n      <td>https://worldwidecorals.com/products/electric-...</td>\n      <td>https://cdn.shopify.com/s/files/1/0021/4958/09...</td>\n      <td>WYSIWYG and fully aquacultured by WWC!</td>\n    </tr>\n    <tr>\n      <th>4</th>\n      <td>W-100520-01</td>\n      <td>Acropora Coral for Sale</td>\n      <td>WYSIWYG Frag</td>\n      <td>WWC Juicy Fruit Acropora</td>\n      <td>Default Title</td>\n      <td>199.0</td>\n      <td>Yes</td>\n      <td>https://worldwidecorals.com/products/wwc-juicy...</td>\n      <td>https://cdn.shopify.com/s/files/1/0021/4958/09...</td>\n      <td>WYSIWYG and fully aquacultured by WWC!</td>\n    </tr>\n    <tr>\n      <th>...</th>\n      <td>...</td>\n      <td>...</td>\n      <td>...</td>\n      <td>...</td>\n      <td>...</td>\n      <td>...</td>\n      <td>...</td>\n      <td>...</td>\n      <td>...</td>\n      <td>...</td>\n    </tr>\n    <tr>\n      <th>12175</th>\n      <td>W-062120-11</td>\n      <td>All</td>\n      <td>WYSIWYG Frag</td>\n      <td>Zebra Love Flower Anemone</td>\n      <td>Default Title</td>\n      <td>99.0</td>\n      <td>No</td>\n      <td>https://worldwidecorals.com/products/zebra-lov...</td>\n      <td>https://cdn.shopify.com/s/files/1/0021/4958/09...</td>\n      <td>WYSIWYG and fully conditioned and ready for li...</td>\n    </tr>\n    <tr>\n      <th>12176</th>\n      <td>W-080520-11</td>\n      <td>All</td>\n      <td>WYSIWYG Frag</td>\n      <td>Zoanthid</td>\n      <td>Default Title</td>\n      <td>129.0</td>\n      <td>No</td>\n      <td>https://worldwidecorals.com/products/zoanthid-...</td>\n      <td>https://cdn.shopify.com/s/files/1/0021/4958/09...</td>\n      <td>WYSIWYG and fully aquacultured by WWC!</td>\n    </tr>\n    <tr>\n      <th>12177</th>\n      <td>PCK-ZOAPCK</td>\n      <td>All</td>\n      <td>Pack</td>\n      <td>Zoanthid 5 Pack</td>\n      <td>Default Title</td>\n      <td>249.0</td>\n      <td>No</td>\n      <td>https://worldwidecorals.com/products/zoanthid-...</td>\n      <td>https://cdn.shopify.com/s/files/1/0021/4958/09...</td>\n      <td>&lt;p&gt;This pack consists of 1 frag each of WWC Ta...</td>\n    </tr>\n    <tr>\n      <th>12178</th>\n      <td>PCK-ZRAND</td>\n      <td>All</td>\n      <td>Pack</td>\n      <td>Zoanthid Frag Pack</td>\n      <td>Default Title</td>\n      <td>99.0</td>\n      <td>Yes</td>\n      <td>https://worldwidecorals.com/products/zoanthid-...</td>\n      <td>https://cdn.shopify.com/s/files/1/0021/4958/09...</td>\n      <td>You will receive one 2-3+ polyp live coral fra...</td>\n    </tr>\n    <tr>\n      <th>12179</th>\n      <td>W-091720-12</td>\n      <td>All</td>\n      <td>WYSIWYG Frag</td>\n      <td>Zombie Apocalypse Chalice</td>\n      <td>Default Title</td>\n      <td>99.0</td>\n      <td>Yes</td>\n      <td>https://worldwidecorals.com/products/zombie-ap...</td>\n      <td>https://cdn.shopify.com/s/files/1/0021/4958/09...</td>\n      <td>WYSIWYG and fully aquacultured by WWC!</td>\n    </tr>\n  </tbody>\n</table>\n<p>12180 rows × 10 columns</p>\n</div>"
     },
     "execution_count": 3,
     "metadata": {},
     "output_type": "execute_result"
    }
   ],
   "source": [
    "df"
   ],
   "metadata": {
    "collapsed": false,
    "pycharm": {
     "name": "#%%\n"
    }
   }
  },
  {
   "cell_type": "code",
   "execution_count": 4,
   "outputs": [
    {
     "data": {
      "text/plain": "array(['acropora', 'coral', 'anemone', 'pack', 'mushroom', 'acro',\n       'lobophyllia', 'cane', 'combo', 'trachyphyllia', 'blastomussa',\n       'crab', 'lord', 'montipora', 'echinata', 'favia', 'acanthophyllia',\n       'zoanthids', 'snail', 'hammer', 'stag', 'torch', 'chalice',\n       'organ', 'starfish', 'lobphyllia', 'frogspawn', 'merulina', '3\"',\n       '4\"', '3.5\"', 'merletti', 'plate', 'scolymia', 'shrimp',\n       'alveopora', 'polyps', 'shroom', 'bowerbanki', '2\"', 'sympodium',\n       'duncan', 'goniopora', 'leather', 'sticker', 'micromussa',\n       'palythoas', 'goniastrea', 'cyphastrea', 'favites', 'leptoseris',\n       'chaetomorpha', 'ricordea', 'palythoa', 'lobster', '#002',\n       'zoanthid', 'lacrymalis', 'gods', 'duster', 'conch', 'scallop',\n       'unit', 'digitata', 'wilsoni', 'cards', 'clam', 'lg', 'birdsnest',\n       'yuma', 'platygyra', 'polyp', 'psammocora', 'hydnophora',\n       'stylophora', 'stylocoeniella', 'lithophyllon', 'leptastrea',\n       'mycedium', 'porites', 'canes', 'nudibranch', 'pectinia', 'urchin',\n       'cynarina', 'acrpopora', 'cowrie', 'frog', 'spongodes', '5.5\"',\n       'gorgonia', 'white', 'xenia', 'gracilaria', 'kelp', 'cap', 'frag',\n       '4.5\"', '#1', '#2', 'cucumber', 'aequituberculata', 'echinopora',\n       'setosa', 'anacropora', 'heads', 'turbinaria', 'oulophyllia',\n       'mug', 'sauce', 'pavona', 'freshener', 'coasters', 'glasses',\n       'galaxea', 'diaseris', 'keychain', 'millepora', 'pocillopora',\n       'hydno', 'astreopora', 'platgyra', 'lords', 'plesiastrea',\n       'hispida', 'club', 'months', 'xl', 'anthellia', 'pachyseris',\n       'protopalythoa', 'glass', 'cespitularia', 'symphyllia', '5\"',\n       'euphyllia', 'birdnest'], dtype=object)"
     },
     "execution_count": 4,
     "metadata": {},
     "output_type": "execute_result"
    }
   ],
   "source": [
    "df.apply(lambda row: row[\"Name\"].lower().split(\" \")[-1], axis=1).unique()"
   ],
   "metadata": {
    "collapsed": false,
    "pycharm": {
     "name": "#%%\n"
    }
   }
  },
  {
   "cell_type": "code",
   "execution_count": 5,
   "outputs": [
    {
     "data": {
      "text/plain": "array(['Acropora Coral for Sale', 'All'], dtype=object)"
     },
     "execution_count": 5,
     "metadata": {},
     "output_type": "execute_result"
    }
   ],
   "source": [
    "df[\"Collection\"].unique()"
   ],
   "metadata": {
    "collapsed": false,
    "pycharm": {
     "name": "#%%\n"
    }
   }
  },
  {
   "cell_type": "code",
   "execution_count": 6,
   "outputs": [
    {
     "data": {
      "text/plain": "array(['WYSIWYG Frag', 'Colony', 'Pack', 'Invert', 'Live Sale Coral',\n       'Frag', 'Vics Picks', 'Gear', 'Custom Bundle', 'Algae', 'Anemone',\n       nan, 'Shipping Unit', 'Gift Card', 'Subscription'], dtype=object)"
     },
     "execution_count": 6,
     "metadata": {},
     "output_type": "execute_result"
    }
   ],
   "source": [
    "df[\"Category\"].unique()"
   ],
   "metadata": {
    "collapsed": false,
    "pycharm": {
     "name": "#%%\n"
    }
   }
  },
  {
   "cell_type": "code",
   "execution_count": 7,
   "outputs": [],
   "source": [
    "import numpy as np\n",
    "\n",
    "only_coral_df = df[\n",
    "    df[\"Category\"].isin(\n",
    "        [\n",
    "            'WYSIWYG Frag',\n",
    "            'Colony',\n",
    "            'Pack',\n",
    "            'Live Sale Coral',\n",
    "            'Frag',\n",
    "            'Vics Picks',\n",
    "            'Anemone',\n",
    "            np.nan\n",
    "        ]\n",
    "    )\n",
    "]"
   ],
   "metadata": {
    "collapsed": false,
    "pycharm": {
     "name": "#%%\n"
    }
   }
  },
  {
   "cell_type": "code",
   "execution_count": 101,
   "outputs": [],
   "source": [
    "target_labels = {\n",
    "    'acanthastrea': [\n",
    "        'lord',\n",
    "        'lords',\n",
    "        'echinata',\n",
    "        'acanthastrea',\n",
    "        'bowerbanki',\n",
    "        'micromussa',\n",
    "        'acan',\n",
    "        'candy cane aussie lord',\n",
    "        'lordhowensis'\n",
    "    ],\n",
    "    'acanthophyllia': ['acanthophyllia'],\n",
    "    'acropora': ['acro', 'acrpopora', 'acropora', 'stag', 'millepora', 'milli'],\n",
    "    'alveopora': ['alveopora'],\n",
    "    'anacropora': ['anacropora'],\n",
    "    'anthellia': ['anthellia', 'snowflake polyps'],\n",
    "    'astreopora': ['astreopora'],\n",
    "    'australophyllia': ['australophyllia', 'australophyllia wilsoni'],\n",
    "    'blastomussa': ['blastomussa', 'blasto'],\n",
    "    'bubble coral': ['bubble coral'],\n",
    "    'bubble tip anemone': ['bubble tip anemone', 'bta', 'bubble anemone', 'black widow anemone'],\n",
    "    'candy cane': ['candy cane', 'canes', 'cane'],\n",
    "    'carpet anemone': ['carpet anemone'],\n",
    "    'cespitularia': ['cespitularia'],\n",
    "    'chalice': ['chalice', 'mycedium', 'echinopora'],\n",
    "    'clove polyps': ['clove polyps', 'clove polyp', 'daisy polyp', 'daisy polyps'],\n",
    "    'condylactis anemone': ['condylactis anemone'],\n",
    "    'tridacna clam': [\n",
    "        'clam',\n",
    "        'tridacna',\n",
    "        'maxima',\n",
    "        'derasa',\n",
    "        'tevoroa',\n",
    "        'gigas',\n",
    "        'mbalavuana',\n",
    "        'squamosina',\n",
    "        'crocea',\n",
    "        'squamosa'\n",
    "    ],\n",
    "    'cynarina': ['cynarina'],\n",
    "    'cyphastrea': ['cyphastrea'],\n",
    "    'diaseris': ['diaseris', 'razor coral', 'fragilis'],\n",
    "    'duncan': ['duncan', 'duncans', 'elegance'],\n",
    "    'euphyllia': ['euphyllia'],\n",
    "    'euphyllia frogspawn': ['frogspawn', 'hammered frog'],\n",
    "    'euphyllia hammer': ['hammer'],\n",
    "    'euphyllia torch': ['torch'],\n",
    "    'favia': ['favia', 'faviidae'],\n",
    "    'favites': ['favites', 'war coral'],\n",
    "    'galaxea': ['galaxea'],\n",
    "    'goniastrea': ['goniastrea'],\n",
    "    'goniopora': ['goniopora', 'gonio'],\n",
    "    'gorgonia': ['gorgonia'],\n",
    "    'hydnophora': ['hydnophora', 'hydno'],\n",
    "    'leather coral': ['leather coral', 'leather', 'toadstool', 'lobophytum'],\n",
    "    'leptastrea': ['leptastrea', 'lepta'],\n",
    "    'leptoseris': ['leptoseris', 'lepto'],\n",
    "    'lithophyllon': ['lithophyllon'],\n",
    "    'lobophyllia': ['lobo', 'lobophyllia', 'lobphyllia'],\n",
    "    'merulina': ['merulina'],\n",
    "    'mini carpet anemone': ['mini carpet', 'mini carpet anemone'],\n",
    "    'montipora': [\n",
    "        'montipora',\n",
    "        'monti',\n",
    "        'cap',\n",
    "        'undata',\n",
    "        'hispida',\n",
    "        'capricornis',\n",
    "        'setosa',\n",
    "        'aequituberculata',\n",
    "        'spongodes'\n",
    "    ],\n",
    "    'montipora digitata': ['digitata'],\n",
    "    'mushroom': ['mushroom', 'shroom'],\n",
    "    'mushroom bounce': ['bounce'],\n",
    "    'mushroom discosoma': ['discosoma', 'disco mushroom'],\n",
    "    'mushroom rhodactis': ['rhodactis', 'rhodactus'],\n",
    "    'mushroom ricordea': ['ricordea', 'ricodea', 'yuma', 'florida'],\n",
    "    'oulophyllia': ['oulophyllia'],\n",
    "    'pachyseris': ['pachyseris'],\n",
    "    'pavona': ['pavona', 'cactus'],\n",
    "    'pectinia': ['pectinia'],\n",
    "    'pipe organ': ['pipe organ'],\n",
    "    'plate coral fungia': ['plate coral', 'fungia', 'cycloseris'],\n",
    "    'platygyra': ['platygyra', 'platy', 'platgyra', 'brain coral'],\n",
    "    'plesiastrea': ['plesiastrea'],\n",
    "    'pocillopora': ['pocillopora'],\n",
    "    'porites': ['porites'],\n",
    "    'psammocora': ['psammocora', 'psammy', 'psammacora'],\n",
    "    'rock flower anemone': [\n",
    "        'rock anemone',\n",
    "        'flower anemone',\n",
    "        'rock anemone',\n",
    "        'rock flower'\n",
    "    ],\n",
    "    'scolymia': ['scolymia', 'scoly'],\n",
    "    'seriatopora': ['seriatopora', 'bridsnest', 'birdsnest', 'birds nest', 'birdnest'],\n",
    "    'star polyps': ['star polyps', 'star polyp'],\n",
    "    'stylocoeniella': ['stylocoeniella'],\n",
    "    'stylophora': ['stylophora', 'stylo'],\n",
    "    'sun coral': ['sun coral'],\n",
    "    'sympodium': ['sympodium'],\n",
    "    'symphyllia': ['symphyllia', 'symphyllia wilsoni', 'smphyllia'],\n",
    "    'trachyphyllia': ['trachyphyllia'],\n",
    "    'tube anemone': ['tube anemone'],\n",
    "    'turbinaria': ['turbinaria', 'scroll'],\n",
    "    'wellsophyllia': ['wellsophyllia'],\n",
    "    'christmas tree worm coral': ['worm', 'xmas tree', 'christmas tree'],\n",
    "    'xenia': ['xenia'],\n",
    "    'snake polyps': ['snake polyps'],\n",
    "    'zoanthid & palys': [\n",
    "        'zoanthids',\n",
    "        'protopalythoa',\n",
    "        'protopalythoas',\n",
    "        'zoanthid',\n",
    "        'zoas',\n",
    "        'zoa',\n",
    "        'paly',\n",
    "        'palys',\n",
    "        'palythoa',\n",
    "        'palythoas'\n",
    "    ]\n",
    "}"
   ],
   "metadata": {
    "collapsed": false,
    "pycharm": {
     "name": "#%%\n"
    }
   }
  },
  {
   "cell_type": "code",
   "execution_count": 104,
   "outputs": [],
   "source": [
    "import re\n",
    "\n",
    "def extract_target_label(frame: pd.DataFrame) -> pd.DataFrame:\n",
    "    possible_duplcate_labels = [\n",
    "        'acropora',\n",
    "        'mushroom',\n",
    "        'euphyllia',\n",
    "        'stylophora',\n",
    "        'montipora',\n",
    "        'lobophyllia',\n",
    "        'candy cane',\n",
    "    ]\n",
    "    frame_cpy = frame.copy()\n",
    "    frame_cpy[\"Target Label\"] = \"unknown\"\n",
    "    frame_cpy[\"Target Label Count\"] = -1\n",
    "    for i, row in frame.iterrows():\n",
    "        possible_labels = set()\n",
    "        for label in target_labels.keys():\n",
    "            for key_word in target_labels[label]:\n",
    "                if re.search(r\"(\\b\" + f\"{key_word}\" + r\"\\b)\", row[\"Name\"].lower()):\n",
    "                    possible_labels.add(label)\n",
    "\n",
    "        if len(possible_labels) == 1:\n",
    "            frame_cpy.at[i, \"Target Label\"] = list(possible_labels)[0]\n",
    "        else:\n",
    "            for label in possible_duplcate_labels:\n",
    "                if label not in possible_labels:\n",
    "                    continue\n",
    "\n",
    "                possible_labels.remove(label)\n",
    "                if len(possible_labels) > 1:\n",
    "                    print(f\"Over 2 labels for product {(i, row['Name'])}\")\n",
    "                frame_cpy.at[i, \"Target Label\"] = list(possible_labels)[0]\n",
    "\n",
    "\n",
    "    return frame_cpy\n",
    "\n",
    "results = extract_target_label(only_coral_df)"
   ],
   "metadata": {
    "collapsed": false,
    "pycharm": {
     "name": "#%%\n"
    }
   }
  },
  {
   "cell_type": "code",
   "execution_count": 105,
   "outputs": [
    {
     "data": {
      "text/plain": "                 Code Collection         Category  \\\n24          PCK-LS4PK        All             Pack   \n25          PCK-LS9PK        All             Pack   \n51       PCK-ALIENLPS        All             Pack   \n195         PCK-BARGN        All             Pack   \n196         PCK-BGNRP        All             Pack   \n197    PCK-BEGINMIXED        All             Pack   \n1050    PCK-BPROOFLPS        All             Pack   \n1472              NaN        All              NaN   \n1543      PCK-EASYLPS        All             Pack   \n1580      PCK-ENCRUST        All             Pack   \n3254        PCK-RANDL        All             Pack   \n3376        PCK-RNDMX        All             Pack   \n3414        PCK-MYSTY        All             Pack   \n4155     ANR21-43-847        All  Live Sale Coral   \n4732        PCK-RANDS        All             Pack   \n4815    LOW-SPS-PACK2        All             Pack   \n4816        PCK-RANDO        All             Pack   \n4835     LOW-SPS-PACK        All             Pack   \n5463        PCK-ULTMX        All             Pack   \n12072   PCK-021420-01        All             Pack   \n12078   PCK-042420-04        All             Pack   \n12088   PCK-031920-01        All             Pack   \n\n                                Name   Variant Name    Price In Stock  \\\n24                      4 Coral Pack  Default Title     49.0       No   \n25                      9 Coral Pack  Default Title     99.0       No   \n51               Alien LPS Frag Pack  Default Title    199.0       No   \n195            Beginner Bargain Pack  Default Title     69.0       No   \n196    Beginner Live Coral Frag Pack  Default Title    210.0       No   \n197              Beginner Mixed Pack  Default Title     59.0       No   \n1050       Bulletproof LPS Frag Pack  Default Title    169.0       No   \n1472                    Deposit #002  Default Title  30000.0       No   \n1543                   Easy LPS Pack  Default Title     79.0       No   \n1580                  Encruster Pack  Default Title    109.0      Yes   \n3254                   LPS Frag Pack  Default Title     99.0      Yes   \n3376                 Mixed Frag Pack  Default Title     99.0      Yes   \n3414            Mystery Starter Pack  Default Title     89.0       No   \n4155    Radioactive Dragon Eye Combo  Default Title      5.0       No   \n4732                Softie Frag Pack  Default Title     89.0       No   \n4815                 SPS Frag 3 Pack  Default Title     95.0       No   \n4816                   SPS Frag Pack  Default Title     99.0      Yes   \n4835           Starter SPS Frag Pack  Default Title    119.0       No   \n5463           Ultra Mixed Frag Pack  Default Title    449.0       No   \n12072      WYSIWYG Collector 10 Pack  Default Title   1399.0       No   \n12078       WYSIWYG Encruster 4 pack  Default Title    399.0       No   \n12088             WYSIWYG LPS 4 Pack  Default Title    299.0       No   \n\n                                                     URL  \\\n24     https://worldwidecorals.com/products/4-coral-pack   \n25     https://worldwidecorals.com/products/9-coral-pack   \n51     https://worldwidecorals.com/products/alien-lps...   \n195    https://worldwidecorals.com/products/beginner-...   \n196    https://worldwidecorals.com/products/beginner-...   \n197    https://worldwidecorals.com/products/beginner-...   \n1050   https://worldwidecorals.com/products/bulletpro...   \n1472    https://worldwidecorals.com/products/deposit-002   \n1543   https://worldwidecorals.com/products/easy-lps-...   \n1580   https://worldwidecorals.com/products/encruster...   \n3254   https://worldwidecorals.com/products/lps-frag-...   \n3376   https://worldwidecorals.com/products/mixed-fra...   \n3414   https://worldwidecorals.com/products/mystery-s...   \n4155   https://worldwidecorals.com/products/anr21-43-847   \n4732   https://worldwidecorals.com/products/softie-fr...   \n4815   https://worldwidecorals.com/products/sps-frag-...   \n4816   https://worldwidecorals.com/products/sps-frag-...   \n4835   https://worldwidecorals.com/products/starter-s...   \n5463   https://worldwidecorals.com/products/ultra-mix...   \n12072  https://worldwidecorals.com/products/wysiwyg-c...   \n12078  https://worldwidecorals.com/products/wysiwyg-e...   \n12088  https://worldwidecorals.com/products/wysiwyg-l...   \n\n                                               Image URL  \\\n24     https://cdn.shopify.com/s/files/1/0021/4958/09...   \n25     https://cdn.shopify.com/s/files/1/0021/4958/09...   \n51     https://cdn.shopify.com/s/files/1/0021/4958/09...   \n195    https://cdn.shopify.com/s/files/1/0021/4958/09...   \n196    https://cdn.shopify.com/s/files/1/0021/4958/09...   \n197    https://cdn.shopify.com/s/files/1/0021/4958/09...   \n1050   https://cdn.shopify.com/s/files/1/0021/4958/09...   \n1472                                                 NaN   \n1543   https://cdn.shopify.com/s/files/1/0021/4958/09...   \n1580   https://cdn.shopify.com/s/files/1/0021/4958/09...   \n3254   https://cdn.shopify.com/s/files/1/0021/4958/09...   \n3376   https://cdn.shopify.com/s/files/1/0021/4958/09...   \n3414   https://cdn.shopify.com/s/files/1/0021/4958/09...   \n4155   https://cdn.shopify.com/s/files/1/0021/4958/09...   \n4732   https://cdn.shopify.com/s/files/1/0021/4958/09...   \n4815   https://cdn.shopify.com/s/files/1/0021/4958/09...   \n4816   https://cdn.shopify.com/s/files/1/0021/4958/09...   \n4835   https://cdn.shopify.com/s/files/1/0021/4958/09...   \n5463   https://cdn.shopify.com/s/files/1/0021/4958/09...   \n12072  https://cdn.shopify.com/s/files/1/0021/4958/09...   \n12078  https://cdn.shopify.com/s/files/1/0021/4958/09...   \n12088  https://cdn.shopify.com/s/files/1/0021/4958/09...   \n\n                                                    Body Target Label  \\\n24     <p>Random Frags, Maximum 2 per shipment</p>\\n<...      unknown   \n25     <p>Random Frags, Maximum 2 per shipment</p>\\n<...      unknown   \n51     <p>This pack contains frags of Jason Fox Secto...      unknown   \n195    This pack consists of 1 frag each of Hollywood...      unknown   \n196    You will receive one 3/4\" - 1\"+ frag of each o...      unknown   \n197    <p><span>This pack consists of 1 frag each of ...      unknown   \n1050   <p>This pack contains frags of CC Tangerine Ju...      unknown   \n1472                                             <p></p>      unknown   \n1543   <p><span>This pack consists of 1 frag each of ...      unknown   \n1580   <p>4 Frags</p>\\n<p>Size: 3/4\" - 1\"+</p>\\n<p>En...      unknown   \n3254   5 Frags, Random Picks<br><br> This pack contai...      unknown   \n3376   You will receive one 3/4\" - 1\"+ live coral fra...      unknown   \n3414   You will receive one 3/4\" - 1\"+ live coral fra...      unknown   \n4155                                 Original Price: $29      unknown   \n4732   You will receive one 3/4\" - 1\"+ live coral fra...      unknown   \n4815   <p>You will receive the following frags in thi...      unknown   \n4816   5 Frags, Random Picks<br><br> This pack contai...      unknown   \n4835   <p>You will receive the following frags in thi...      unknown   \n5463   <p>This pack contains 10 ultra grade corals 3/...      unknown   \n12072  \"You will receive the following 10 WYSIWYG fra...      unknown   \n12078  \"You will receive the following 4 WYSIWYG frag...      unknown   \n12088  \"You will receive the following 4 WYSIWYG frag...      unknown   \n\n       Target Label Count  \n24                     -1  \n25                     -1  \n51                     -1  \n195                    -1  \n196                    -1  \n197                    -1  \n1050                   -1  \n1472                   -1  \n1543                   -1  \n1580                   -1  \n3254                   -1  \n3376                   -1  \n3414                   -1  \n4155                   -1  \n4732                   -1  \n4815                   -1  \n4816                   -1  \n4835                   -1  \n5463                   -1  \n12072                  -1  \n12078                  -1  \n12088                  -1  ",
      "text/html": "<div>\n<style scoped>\n    .dataframe tbody tr th:only-of-type {\n        vertical-align: middle;\n    }\n\n    .dataframe tbody tr th {\n        vertical-align: top;\n    }\n\n    .dataframe thead th {\n        text-align: right;\n    }\n</style>\n<table border=\"1\" class=\"dataframe\">\n  <thead>\n    <tr style=\"text-align: right;\">\n      <th></th>\n      <th>Code</th>\n      <th>Collection</th>\n      <th>Category</th>\n      <th>Name</th>\n      <th>Variant Name</th>\n      <th>Price</th>\n      <th>In Stock</th>\n      <th>URL</th>\n      <th>Image URL</th>\n      <th>Body</th>\n      <th>Target Label</th>\n      <th>Target Label Count</th>\n    </tr>\n  </thead>\n  <tbody>\n    <tr>\n      <th>24</th>\n      <td>PCK-LS4PK</td>\n      <td>All</td>\n      <td>Pack</td>\n      <td>4 Coral Pack</td>\n      <td>Default Title</td>\n      <td>49.0</td>\n      <td>No</td>\n      <td>https://worldwidecorals.com/products/4-coral-pack</td>\n      <td>https://cdn.shopify.com/s/files/1/0021/4958/09...</td>\n      <td>&lt;p&gt;Random Frags, Maximum 2 per shipment&lt;/p&gt;\\n&lt;...</td>\n      <td>unknown</td>\n      <td>-1</td>\n    </tr>\n    <tr>\n      <th>25</th>\n      <td>PCK-LS9PK</td>\n      <td>All</td>\n      <td>Pack</td>\n      <td>9 Coral Pack</td>\n      <td>Default Title</td>\n      <td>99.0</td>\n      <td>No</td>\n      <td>https://worldwidecorals.com/products/9-coral-pack</td>\n      <td>https://cdn.shopify.com/s/files/1/0021/4958/09...</td>\n      <td>&lt;p&gt;Random Frags, Maximum 2 per shipment&lt;/p&gt;\\n&lt;...</td>\n      <td>unknown</td>\n      <td>-1</td>\n    </tr>\n    <tr>\n      <th>51</th>\n      <td>PCK-ALIENLPS</td>\n      <td>All</td>\n      <td>Pack</td>\n      <td>Alien LPS Frag Pack</td>\n      <td>Default Title</td>\n      <td>199.0</td>\n      <td>No</td>\n      <td>https://worldwidecorals.com/products/alien-lps...</td>\n      <td>https://cdn.shopify.com/s/files/1/0021/4958/09...</td>\n      <td>&lt;p&gt;This pack contains frags of Jason Fox Secto...</td>\n      <td>unknown</td>\n      <td>-1</td>\n    </tr>\n    <tr>\n      <th>195</th>\n      <td>PCK-BARGN</td>\n      <td>All</td>\n      <td>Pack</td>\n      <td>Beginner Bargain Pack</td>\n      <td>Default Title</td>\n      <td>69.0</td>\n      <td>No</td>\n      <td>https://worldwidecorals.com/products/beginner-...</td>\n      <td>https://cdn.shopify.com/s/files/1/0021/4958/09...</td>\n      <td>This pack consists of 1 frag each of Hollywood...</td>\n      <td>unknown</td>\n      <td>-1</td>\n    </tr>\n    <tr>\n      <th>196</th>\n      <td>PCK-BGNRP</td>\n      <td>All</td>\n      <td>Pack</td>\n      <td>Beginner Live Coral Frag Pack</td>\n      <td>Default Title</td>\n      <td>210.0</td>\n      <td>No</td>\n      <td>https://worldwidecorals.com/products/beginner-...</td>\n      <td>https://cdn.shopify.com/s/files/1/0021/4958/09...</td>\n      <td>You will receive one 3/4\" - 1\"+ frag of each o...</td>\n      <td>unknown</td>\n      <td>-1</td>\n    </tr>\n    <tr>\n      <th>197</th>\n      <td>PCK-BEGINMIXED</td>\n      <td>All</td>\n      <td>Pack</td>\n      <td>Beginner Mixed Pack</td>\n      <td>Default Title</td>\n      <td>59.0</td>\n      <td>No</td>\n      <td>https://worldwidecorals.com/products/beginner-...</td>\n      <td>https://cdn.shopify.com/s/files/1/0021/4958/09...</td>\n      <td>&lt;p&gt;&lt;span&gt;This pack consists of 1 frag each of ...</td>\n      <td>unknown</td>\n      <td>-1</td>\n    </tr>\n    <tr>\n      <th>1050</th>\n      <td>PCK-BPROOFLPS</td>\n      <td>All</td>\n      <td>Pack</td>\n      <td>Bulletproof LPS Frag Pack</td>\n      <td>Default Title</td>\n      <td>169.0</td>\n      <td>No</td>\n      <td>https://worldwidecorals.com/products/bulletpro...</td>\n      <td>https://cdn.shopify.com/s/files/1/0021/4958/09...</td>\n      <td>&lt;p&gt;This pack contains frags of CC Tangerine Ju...</td>\n      <td>unknown</td>\n      <td>-1</td>\n    </tr>\n    <tr>\n      <th>1472</th>\n      <td>NaN</td>\n      <td>All</td>\n      <td>NaN</td>\n      <td>Deposit #002</td>\n      <td>Default Title</td>\n      <td>30000.0</td>\n      <td>No</td>\n      <td>https://worldwidecorals.com/products/deposit-002</td>\n      <td>NaN</td>\n      <td>&lt;p&gt;&lt;/p&gt;</td>\n      <td>unknown</td>\n      <td>-1</td>\n    </tr>\n    <tr>\n      <th>1543</th>\n      <td>PCK-EASYLPS</td>\n      <td>All</td>\n      <td>Pack</td>\n      <td>Easy LPS Pack</td>\n      <td>Default Title</td>\n      <td>79.0</td>\n      <td>No</td>\n      <td>https://worldwidecorals.com/products/easy-lps-...</td>\n      <td>https://cdn.shopify.com/s/files/1/0021/4958/09...</td>\n      <td>&lt;p&gt;&lt;span&gt;This pack consists of 1 frag each of ...</td>\n      <td>unknown</td>\n      <td>-1</td>\n    </tr>\n    <tr>\n      <th>1580</th>\n      <td>PCK-ENCRUST</td>\n      <td>All</td>\n      <td>Pack</td>\n      <td>Encruster Pack</td>\n      <td>Default Title</td>\n      <td>109.0</td>\n      <td>Yes</td>\n      <td>https://worldwidecorals.com/products/encruster...</td>\n      <td>https://cdn.shopify.com/s/files/1/0021/4958/09...</td>\n      <td>&lt;p&gt;4 Frags&lt;/p&gt;\\n&lt;p&gt;Size: 3/4\" - 1\"+&lt;/p&gt;\\n&lt;p&gt;En...</td>\n      <td>unknown</td>\n      <td>-1</td>\n    </tr>\n    <tr>\n      <th>3254</th>\n      <td>PCK-RANDL</td>\n      <td>All</td>\n      <td>Pack</td>\n      <td>LPS Frag Pack</td>\n      <td>Default Title</td>\n      <td>99.0</td>\n      <td>Yes</td>\n      <td>https://worldwidecorals.com/products/lps-frag-...</td>\n      <td>https://cdn.shopify.com/s/files/1/0021/4958/09...</td>\n      <td>5 Frags, Random Picks&lt;br&gt;&lt;br&gt; This pack contai...</td>\n      <td>unknown</td>\n      <td>-1</td>\n    </tr>\n    <tr>\n      <th>3376</th>\n      <td>PCK-RNDMX</td>\n      <td>All</td>\n      <td>Pack</td>\n      <td>Mixed Frag Pack</td>\n      <td>Default Title</td>\n      <td>99.0</td>\n      <td>Yes</td>\n      <td>https://worldwidecorals.com/products/mixed-fra...</td>\n      <td>https://cdn.shopify.com/s/files/1/0021/4958/09...</td>\n      <td>You will receive one 3/4\" - 1\"+ live coral fra...</td>\n      <td>unknown</td>\n      <td>-1</td>\n    </tr>\n    <tr>\n      <th>3414</th>\n      <td>PCK-MYSTY</td>\n      <td>All</td>\n      <td>Pack</td>\n      <td>Mystery Starter Pack</td>\n      <td>Default Title</td>\n      <td>89.0</td>\n      <td>No</td>\n      <td>https://worldwidecorals.com/products/mystery-s...</td>\n      <td>https://cdn.shopify.com/s/files/1/0021/4958/09...</td>\n      <td>You will receive one 3/4\" - 1\"+ live coral fra...</td>\n      <td>unknown</td>\n      <td>-1</td>\n    </tr>\n    <tr>\n      <th>4155</th>\n      <td>ANR21-43-847</td>\n      <td>All</td>\n      <td>Live Sale Coral</td>\n      <td>Radioactive Dragon Eye Combo</td>\n      <td>Default Title</td>\n      <td>5.0</td>\n      <td>No</td>\n      <td>https://worldwidecorals.com/products/anr21-43-847</td>\n      <td>https://cdn.shopify.com/s/files/1/0021/4958/09...</td>\n      <td>Original Price: $29</td>\n      <td>unknown</td>\n      <td>-1</td>\n    </tr>\n    <tr>\n      <th>4732</th>\n      <td>PCK-RANDS</td>\n      <td>All</td>\n      <td>Pack</td>\n      <td>Softie Frag Pack</td>\n      <td>Default Title</td>\n      <td>89.0</td>\n      <td>No</td>\n      <td>https://worldwidecorals.com/products/softie-fr...</td>\n      <td>https://cdn.shopify.com/s/files/1/0021/4958/09...</td>\n      <td>You will receive one 3/4\" - 1\"+ live coral fra...</td>\n      <td>unknown</td>\n      <td>-1</td>\n    </tr>\n    <tr>\n      <th>4815</th>\n      <td>LOW-SPS-PACK2</td>\n      <td>All</td>\n      <td>Pack</td>\n      <td>SPS Frag 3 Pack</td>\n      <td>Default Title</td>\n      <td>95.0</td>\n      <td>No</td>\n      <td>https://worldwidecorals.com/products/sps-frag-...</td>\n      <td>https://cdn.shopify.com/s/files/1/0021/4958/09...</td>\n      <td>&lt;p&gt;You will receive the following frags in thi...</td>\n      <td>unknown</td>\n      <td>-1</td>\n    </tr>\n    <tr>\n      <th>4816</th>\n      <td>PCK-RANDO</td>\n      <td>All</td>\n      <td>Pack</td>\n      <td>SPS Frag Pack</td>\n      <td>Default Title</td>\n      <td>99.0</td>\n      <td>Yes</td>\n      <td>https://worldwidecorals.com/products/sps-frag-...</td>\n      <td>https://cdn.shopify.com/s/files/1/0021/4958/09...</td>\n      <td>5 Frags, Random Picks&lt;br&gt;&lt;br&gt; This pack contai...</td>\n      <td>unknown</td>\n      <td>-1</td>\n    </tr>\n    <tr>\n      <th>4835</th>\n      <td>LOW-SPS-PACK</td>\n      <td>All</td>\n      <td>Pack</td>\n      <td>Starter SPS Frag Pack</td>\n      <td>Default Title</td>\n      <td>119.0</td>\n      <td>No</td>\n      <td>https://worldwidecorals.com/products/starter-s...</td>\n      <td>https://cdn.shopify.com/s/files/1/0021/4958/09...</td>\n      <td>&lt;p&gt;You will receive the following frags in thi...</td>\n      <td>unknown</td>\n      <td>-1</td>\n    </tr>\n    <tr>\n      <th>5463</th>\n      <td>PCK-ULTMX</td>\n      <td>All</td>\n      <td>Pack</td>\n      <td>Ultra Mixed Frag Pack</td>\n      <td>Default Title</td>\n      <td>449.0</td>\n      <td>No</td>\n      <td>https://worldwidecorals.com/products/ultra-mix...</td>\n      <td>https://cdn.shopify.com/s/files/1/0021/4958/09...</td>\n      <td>&lt;p&gt;This pack contains 10 ultra grade corals 3/...</td>\n      <td>unknown</td>\n      <td>-1</td>\n    </tr>\n    <tr>\n      <th>12072</th>\n      <td>PCK-021420-01</td>\n      <td>All</td>\n      <td>Pack</td>\n      <td>WYSIWYG Collector 10 Pack</td>\n      <td>Default Title</td>\n      <td>1399.0</td>\n      <td>No</td>\n      <td>https://worldwidecorals.com/products/wysiwyg-c...</td>\n      <td>https://cdn.shopify.com/s/files/1/0021/4958/09...</td>\n      <td>\"You will receive the following 10 WYSIWYG fra...</td>\n      <td>unknown</td>\n      <td>-1</td>\n    </tr>\n    <tr>\n      <th>12078</th>\n      <td>PCK-042420-04</td>\n      <td>All</td>\n      <td>Pack</td>\n      <td>WYSIWYG Encruster 4 pack</td>\n      <td>Default Title</td>\n      <td>399.0</td>\n      <td>No</td>\n      <td>https://worldwidecorals.com/products/wysiwyg-e...</td>\n      <td>https://cdn.shopify.com/s/files/1/0021/4958/09...</td>\n      <td>\"You will receive the following 4 WYSIWYG frag...</td>\n      <td>unknown</td>\n      <td>-1</td>\n    </tr>\n    <tr>\n      <th>12088</th>\n      <td>PCK-031920-01</td>\n      <td>All</td>\n      <td>Pack</td>\n      <td>WYSIWYG LPS 4 Pack</td>\n      <td>Default Title</td>\n      <td>299.0</td>\n      <td>No</td>\n      <td>https://worldwidecorals.com/products/wysiwyg-l...</td>\n      <td>https://cdn.shopify.com/s/files/1/0021/4958/09...</td>\n      <td>\"You will receive the following 4 WYSIWYG frag...</td>\n      <td>unknown</td>\n      <td>-1</td>\n    </tr>\n  </tbody>\n</table>\n</div>"
     },
     "execution_count": 105,
     "metadata": {},
     "output_type": "execute_result"
    }
   ],
   "source": [
    "results[results[\"Target Label\"] == \"unknown\"]"
   ],
   "metadata": {
    "collapsed": false,
    "pycharm": {
     "name": "#%%\n"
    }
   }
  },
  {
   "cell_type": "code",
   "execution_count": 73,
   "outputs": [
    {
     "data": {
      "text/plain": "True"
     },
     "execution_count": 73,
     "metadata": {},
     "output_type": "execute_result"
    }
   ],
   "source": [
    "\n"
   ],
   "metadata": {
    "collapsed": false,
    "pycharm": {
     "name": "#%%\n"
    }
   }
  }
 ],
 "metadata": {
  "kernelspec": {
   "display_name": "Python 3",
   "language": "python",
   "name": "python3"
  },
  "language_info": {
   "codemirror_mode": {
    "name": "ipython",
    "version": 2
   },
   "file_extension": ".py",
   "mimetype": "text/x-python",
   "name": "python",
   "nbconvert_exporter": "python",
   "pygments_lexer": "ipython2",
   "version": "2.7.6"
  }
 },
 "nbformat": 4,
 "nbformat_minor": 0
}