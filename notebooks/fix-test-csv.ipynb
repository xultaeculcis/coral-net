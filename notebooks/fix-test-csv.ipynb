{
 "cells": [
  {
   "cell_type": "code",
   "execution_count": 4,
   "metadata": {
    "ExecuteTime": {
     "end_time": "2020-08-15T06:51:42.808900Z",
     "start_time": "2020-08-15T06:51:42.805429Z"
    }
   },
   "outputs": [],
   "source": [
    "import pandas as pd\n",
    "import os"
   ]
  },
  {
   "cell_type": "code",
   "execution_count": 2,
   "metadata": {
    "ExecuteTime": {
     "end_time": "2020-08-15T06:48:57.806128Z",
     "start_time": "2020-08-15T06:48:57.795387Z"
    }
   },
   "outputs": [],
   "source": [
    "df = pd.read_csv('../datasets/test.csv')"
   ]
  },
  {
   "cell_type": "code",
   "execution_count": 3,
   "metadata": {
    "ExecuteTime": {
     "end_time": "2020-08-15T06:49:01.487531Z",
     "start_time": "2020-08-15T06:49:01.474469Z"
    }
   },
   "outputs": [
    {
     "data": {
      "text/html": [
       "<div>\n",
       "<style scoped>\n",
       "    .dataframe tbody tr th:only-of-type {\n",
       "        vertical-align: middle;\n",
       "    }\n",
       "\n",
       "    .dataframe tbody tr th {\n",
       "        vertical-align: top;\n",
       "    }\n",
       "\n",
       "    .dataframe thead th {\n",
       "        text-align: right;\n",
       "    }\n",
       "</style>\n",
       "<table border=\"1\" class=\"dataframe\">\n",
       "  <thead>\n",
       "    <tr style=\"text-align: right;\">\n",
       "      <th></th>\n",
       "      <th>image</th>\n",
       "      <th>label</th>\n",
       "      <th>text_label</th>\n",
       "    </tr>\n",
       "  </thead>\n",
       "  <tbody>\n",
       "    <tr>\n",
       "      <th>0</th>\n",
       "      <td>other_001083.jpg</td>\n",
       "      <td>1</td>\n",
       "      <td>other</td>\n",
       "    </tr>\n",
       "    <tr>\n",
       "      <th>1</th>\n",
       "      <td>other_001944.jpg</td>\n",
       "      <td>1</td>\n",
       "      <td>other</td>\n",
       "    </tr>\n",
       "    <tr>\n",
       "      <th>2</th>\n",
       "      <td>lpschalice_000288.jpg</td>\n",
       "      <td>5</td>\n",
       "      <td>lps chalice</td>\n",
       "    </tr>\n",
       "    <tr>\n",
       "      <th>3</th>\n",
       "      <td>spsmontipora_001265.jpg</td>\n",
       "      <td>0</td>\n",
       "      <td>sps montipora</td>\n",
       "    </tr>\n",
       "    <tr>\n",
       "      <th>4</th>\n",
       "      <td>spsacropora_001869.jpg</td>\n",
       "      <td>2</td>\n",
       "      <td>sps acropora</td>\n",
       "    </tr>\n",
       "  </tbody>\n",
       "</table>\n",
       "</div>"
      ],
      "text/plain": [
       "                     image  label     text_label\n",
       "0         other_001083.jpg      1          other\n",
       "1         other_001944.jpg      1          other\n",
       "2    lpschalice_000288.jpg      5    lps chalice\n",
       "3  spsmontipora_001265.jpg      0  sps montipora\n",
       "4   spsacropora_001869.jpg      2   sps acropora"
      ]
     },
     "execution_count": 3,
     "metadata": {},
     "output_type": "execute_result"
    }
   ],
   "source": [
    "df.head()"
   ]
  },
  {
   "cell_type": "code",
   "execution_count": 7,
   "metadata": {
    "ExecuteTime": {
     "end_time": "2020-08-15T06:52:14.734237Z",
     "start_time": "2020-08-15T06:52:14.731306Z"
    }
   },
   "outputs": [],
   "source": [
    "classes = sorted(os.listdir('../datasets/train/'))"
   ]
  },
  {
   "cell_type": "code",
   "execution_count": 10,
   "metadata": {
    "ExecuteTime": {
     "end_time": "2020-08-15T06:54:22.811873Z",
     "start_time": "2020-08-15T06:54:22.804665Z"
    }
   },
   "outputs": [
    {
     "data": {
      "text/plain": [
       "{1: 'other',\n",
       " 5: 'lps chalice',\n",
       " 0: 'sps montipora',\n",
       " 2: 'sps acropora',\n",
       " 3: 'zoa',\n",
       " 4: 'lps euphyllia',\n",
       " 6: 'lps acanthastrea'}"
      ]
     },
     "execution_count": 10,
     "metadata": {},
     "output_type": "execute_result"
    }
   ],
   "source": [
    "current_lookup = dict(zip(df.label.unique(), df.text_label.unique()))\n",
    "current_lookup"
   ]
  },
  {
   "cell_type": "code",
   "execution_count": 13,
   "metadata": {
    "ExecuteTime": {
     "end_time": "2020-08-15T06:56:02.507236Z",
     "start_time": "2020-08-15T06:56:02.500672Z"
    }
   },
   "outputs": [
    {
     "data": {
      "text/plain": [
       "{0: 'Acanthastrea',\n",
       " 1: 'Acropora',\n",
       " 2: 'Chalice',\n",
       " 3: 'Euphyllia',\n",
       " 4: 'Montipora',\n",
       " 5: 'Other',\n",
       " 6: 'Zoa'}"
      ]
     },
     "execution_count": 13,
     "metadata": {},
     "output_type": "execute_result"
    }
   ],
   "source": [
    "proper_lookup = dict([(i, c) for i, c in enumerate(classes)])\n",
    "proper_lookup"
   ]
  },
  {
   "cell_type": "code",
   "execution_count": 15,
   "metadata": {
    "ExecuteTime": {
     "end_time": "2020-08-15T07:00:07.804657Z",
     "start_time": "2020-08-15T07:00:07.796488Z"
    }
   },
   "outputs": [
    {
     "data": {
      "text/plain": [
       "{1: 5, 5: 2, 0: 4, 2: 1, 3: 6, 4: 3, 6: 0}"
      ]
     },
     "execution_count": 15,
     "metadata": {},
     "output_type": "execute_result"
    }
   ],
   "source": [
    "replace_lookup = {}\n",
    "for k, v in current_lookup.items():\n",
    "    formatted_name = v.replace('lps ', '').replace('sps ', '').capitalize()\n",
    "    for pk, pv in proper_lookup.items():\n",
    "        if pv == formatted_name:\n",
    "            replace_lookup[k] = pk\n",
    "\n",
    "replace_lookup"
   ]
  },
  {
   "cell_type": "code",
   "execution_count": 16,
   "metadata": {
    "ExecuteTime": {
     "end_time": "2020-08-15T07:00:49.856186Z",
     "start_time": "2020-08-15T07:00:49.852658Z"
    }
   },
   "outputs": [],
   "source": [
    "def re_label(row):\n",
    "    return replace_lookup[row.label]"
   ]
  },
  {
   "cell_type": "code",
   "execution_count": 17,
   "metadata": {
    "ExecuteTime": {
     "end_time": "2020-08-15T07:02:02.506409Z",
     "start_time": "2020-08-15T07:02:02.461607Z"
    }
   },
   "outputs": [],
   "source": [
    "df.label = df.apply(lambda row: re_label(row), axis=1)"
   ]
  },
  {
   "cell_type": "code",
   "execution_count": 18,
   "metadata": {
    "ExecuteTime": {
     "end_time": "2020-08-15T07:02:05.457922Z",
     "start_time": "2020-08-15T07:02:05.445061Z"
    }
   },
   "outputs": [
    {
     "data": {
      "text/html": [
       "<div>\n",
       "<style scoped>\n",
       "    .dataframe tbody tr th:only-of-type {\n",
       "        vertical-align: middle;\n",
       "    }\n",
       "\n",
       "    .dataframe tbody tr th {\n",
       "        vertical-align: top;\n",
       "    }\n",
       "\n",
       "    .dataframe thead th {\n",
       "        text-align: right;\n",
       "    }\n",
       "</style>\n",
       "<table border=\"1\" class=\"dataframe\">\n",
       "  <thead>\n",
       "    <tr style=\"text-align: right;\">\n",
       "      <th></th>\n",
       "      <th>image</th>\n",
       "      <th>label</th>\n",
       "      <th>text_label</th>\n",
       "    </tr>\n",
       "  </thead>\n",
       "  <tbody>\n",
       "    <tr>\n",
       "      <th>0</th>\n",
       "      <td>other_001083.jpg</td>\n",
       "      <td>5</td>\n",
       "      <td>other</td>\n",
       "    </tr>\n",
       "    <tr>\n",
       "      <th>1</th>\n",
       "      <td>other_001944.jpg</td>\n",
       "      <td>5</td>\n",
       "      <td>other</td>\n",
       "    </tr>\n",
       "    <tr>\n",
       "      <th>2</th>\n",
       "      <td>lpschalice_000288.jpg</td>\n",
       "      <td>2</td>\n",
       "      <td>lps chalice</td>\n",
       "    </tr>\n",
       "    <tr>\n",
       "      <th>3</th>\n",
       "      <td>spsmontipora_001265.jpg</td>\n",
       "      <td>4</td>\n",
       "      <td>sps montipora</td>\n",
       "    </tr>\n",
       "    <tr>\n",
       "      <th>4</th>\n",
       "      <td>spsacropora_001869.jpg</td>\n",
       "      <td>1</td>\n",
       "      <td>sps acropora</td>\n",
       "    </tr>\n",
       "    <tr>\n",
       "      <th>...</th>\n",
       "      <td>...</td>\n",
       "      <td>...</td>\n",
       "      <td>...</td>\n",
       "    </tr>\n",
       "    <tr>\n",
       "      <th>2159</th>\n",
       "      <td>spsmontipora_001306.jpg</td>\n",
       "      <td>4</td>\n",
       "      <td>sps montipora</td>\n",
       "    </tr>\n",
       "    <tr>\n",
       "      <th>2160</th>\n",
       "      <td>spsmontipora_000882.jpg</td>\n",
       "      <td>4</td>\n",
       "      <td>sps montipora</td>\n",
       "    </tr>\n",
       "    <tr>\n",
       "      <th>2161</th>\n",
       "      <td>spsacropora_000914.jpg</td>\n",
       "      <td>1</td>\n",
       "      <td>sps acropora</td>\n",
       "    </tr>\n",
       "    <tr>\n",
       "      <th>2162</th>\n",
       "      <td>zoa_001088.jpg</td>\n",
       "      <td>6</td>\n",
       "      <td>zoa</td>\n",
       "    </tr>\n",
       "    <tr>\n",
       "      <th>2163</th>\n",
       "      <td>lpseuphyllia_001901.jpg</td>\n",
       "      <td>3</td>\n",
       "      <td>lps euphyllia</td>\n",
       "    </tr>\n",
       "  </tbody>\n",
       "</table>\n",
       "<p>2164 rows × 3 columns</p>\n",
       "</div>"
      ],
      "text/plain": [
       "                        image  label     text_label\n",
       "0            other_001083.jpg      5          other\n",
       "1            other_001944.jpg      5          other\n",
       "2       lpschalice_000288.jpg      2    lps chalice\n",
       "3     spsmontipora_001265.jpg      4  sps montipora\n",
       "4      spsacropora_001869.jpg      1   sps acropora\n",
       "...                       ...    ...            ...\n",
       "2159  spsmontipora_001306.jpg      4  sps montipora\n",
       "2160  spsmontipora_000882.jpg      4  sps montipora\n",
       "2161   spsacropora_000914.jpg      1   sps acropora\n",
       "2162           zoa_001088.jpg      6            zoa\n",
       "2163  lpseuphyllia_001901.jpg      3  lps euphyllia\n",
       "\n",
       "[2164 rows x 3 columns]"
      ]
     },
     "execution_count": 18,
     "metadata": {},
     "output_type": "execute_result"
    }
   ],
   "source": [
    "df"
   ]
  },
  {
   "cell_type": "code",
   "execution_count": 19,
   "metadata": {
    "ExecuteTime": {
     "end_time": "2020-08-15T07:03:04.056114Z",
     "start_time": "2020-08-15T07:03:04.052467Z"
    }
   },
   "outputs": [],
   "source": [
    "def re_label_text(row):\n",
    "    return proper_lookup[row.label]"
   ]
  },
  {
   "cell_type": "code",
   "execution_count": 20,
   "metadata": {
    "ExecuteTime": {
     "end_time": "2020-08-15T07:03:16.111462Z",
     "start_time": "2020-08-15T07:03:16.069754Z"
    }
   },
   "outputs": [],
   "source": [
    "df.text_label = df.apply(lambda row: re_label_text(row), axis=1)"
   ]
  },
  {
   "cell_type": "code",
   "execution_count": 21,
   "metadata": {
    "ExecuteTime": {
     "end_time": "2020-08-15T07:03:22.706165Z",
     "start_time": "2020-08-15T07:03:22.692439Z"
    }
   },
   "outputs": [
    {
     "data": {
      "text/html": [
       "<div>\n",
       "<style scoped>\n",
       "    .dataframe tbody tr th:only-of-type {\n",
       "        vertical-align: middle;\n",
       "    }\n",
       "\n",
       "    .dataframe tbody tr th {\n",
       "        vertical-align: top;\n",
       "    }\n",
       "\n",
       "    .dataframe thead th {\n",
       "        text-align: right;\n",
       "    }\n",
       "</style>\n",
       "<table border=\"1\" class=\"dataframe\">\n",
       "  <thead>\n",
       "    <tr style=\"text-align: right;\">\n",
       "      <th></th>\n",
       "      <th>image</th>\n",
       "      <th>label</th>\n",
       "      <th>text_label</th>\n",
       "    </tr>\n",
       "  </thead>\n",
       "  <tbody>\n",
       "    <tr>\n",
       "      <th>0</th>\n",
       "      <td>other_001083.jpg</td>\n",
       "      <td>5</td>\n",
       "      <td>Other</td>\n",
       "    </tr>\n",
       "    <tr>\n",
       "      <th>1</th>\n",
       "      <td>other_001944.jpg</td>\n",
       "      <td>5</td>\n",
       "      <td>Other</td>\n",
       "    </tr>\n",
       "    <tr>\n",
       "      <th>2</th>\n",
       "      <td>lpschalice_000288.jpg</td>\n",
       "      <td>2</td>\n",
       "      <td>Chalice</td>\n",
       "    </tr>\n",
       "    <tr>\n",
       "      <th>3</th>\n",
       "      <td>spsmontipora_001265.jpg</td>\n",
       "      <td>4</td>\n",
       "      <td>Montipora</td>\n",
       "    </tr>\n",
       "    <tr>\n",
       "      <th>4</th>\n",
       "      <td>spsacropora_001869.jpg</td>\n",
       "      <td>1</td>\n",
       "      <td>Acropora</td>\n",
       "    </tr>\n",
       "    <tr>\n",
       "      <th>...</th>\n",
       "      <td>...</td>\n",
       "      <td>...</td>\n",
       "      <td>...</td>\n",
       "    </tr>\n",
       "    <tr>\n",
       "      <th>2159</th>\n",
       "      <td>spsmontipora_001306.jpg</td>\n",
       "      <td>4</td>\n",
       "      <td>Montipora</td>\n",
       "    </tr>\n",
       "    <tr>\n",
       "      <th>2160</th>\n",
       "      <td>spsmontipora_000882.jpg</td>\n",
       "      <td>4</td>\n",
       "      <td>Montipora</td>\n",
       "    </tr>\n",
       "    <tr>\n",
       "      <th>2161</th>\n",
       "      <td>spsacropora_000914.jpg</td>\n",
       "      <td>1</td>\n",
       "      <td>Acropora</td>\n",
       "    </tr>\n",
       "    <tr>\n",
       "      <th>2162</th>\n",
       "      <td>zoa_001088.jpg</td>\n",
       "      <td>6</td>\n",
       "      <td>Zoa</td>\n",
       "    </tr>\n",
       "    <tr>\n",
       "      <th>2163</th>\n",
       "      <td>lpseuphyllia_001901.jpg</td>\n",
       "      <td>3</td>\n",
       "      <td>Euphyllia</td>\n",
       "    </tr>\n",
       "  </tbody>\n",
       "</table>\n",
       "<p>2164 rows × 3 columns</p>\n",
       "</div>"
      ],
      "text/plain": [
       "                        image  label text_label\n",
       "0            other_001083.jpg      5      Other\n",
       "1            other_001944.jpg      5      Other\n",
       "2       lpschalice_000288.jpg      2    Chalice\n",
       "3     spsmontipora_001265.jpg      4  Montipora\n",
       "4      spsacropora_001869.jpg      1   Acropora\n",
       "...                       ...    ...        ...\n",
       "2159  spsmontipora_001306.jpg      4  Montipora\n",
       "2160  spsmontipora_000882.jpg      4  Montipora\n",
       "2161   spsacropora_000914.jpg      1   Acropora\n",
       "2162           zoa_001088.jpg      6        Zoa\n",
       "2163  lpseuphyllia_001901.jpg      3  Euphyllia\n",
       "\n",
       "[2164 rows x 3 columns]"
      ]
     },
     "execution_count": 21,
     "metadata": {},
     "output_type": "execute_result"
    }
   ],
   "source": [
    "df"
   ]
  },
  {
   "cell_type": "code",
   "execution_count": 22,
   "metadata": {
    "ExecuteTime": {
     "end_time": "2020-08-15T07:03:39.299793Z",
     "start_time": "2020-08-15T07:03:39.285276Z"
    }
   },
   "outputs": [],
   "source": [
    "df.to_csv('../datasets/test.csv')"
   ]
  },
  {
   "cell_type": "code",
   "execution_count": null,
   "metadata": {},
   "outputs": [],
   "source": []
  }
 ],
 "metadata": {
  "hide_input": false,
  "kernelspec": {
   "display_name": "Python 3",
   "language": "python",
   "name": "python3"
  },
  "language_info": {
   "codemirror_mode": {
    "name": "ipython",
    "version": 3
   },
   "file_extension": ".py",
   "mimetype": "text/x-python",
   "name": "python",
   "nbconvert_exporter": "python",
   "pygments_lexer": "ipython3",
   "version": "3.7.7"
  }
 },
 "nbformat": 4,
 "nbformat_minor": 4
}
