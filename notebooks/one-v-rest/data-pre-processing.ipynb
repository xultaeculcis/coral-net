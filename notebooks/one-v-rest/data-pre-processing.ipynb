{
 "cells": [
  {
   "cell_type": "markdown",
   "metadata": {},
   "source": [
    "# Data preprocessing"
   ]
  },
  {
   "cell_type": "markdown",
   "metadata": {},
   "source": [
    "## Imports and helper functions"
   ]
  },
  {
   "cell_type": "code",
   "execution_count": 28,
   "metadata": {},
   "outputs": [
    {
     "ename": "FileNotFoundError",
     "evalue": "[Errno 2] No such file or directory: '../../../datasets/original'",
     "output_type": "error",
     "traceback": [
      "\u001B[0;31m---------------------------------------------------------------------------\u001B[0m",
      "\u001B[0;31mFileNotFoundError\u001B[0m                         Traceback (most recent call last)",
      "\u001B[0;32m<ipython-input-28-adee18aa1291>\u001B[0m in \u001B[0;36m<module>\u001B[0;34m\u001B[0m\n\u001B[1;32m     21\u001B[0m \u001B[0mdata_dir\u001B[0m \u001B[0;34m=\u001B[0m \u001B[0;34m\"../../../datasets/original\"\u001B[0m\u001B[0;34m\u001B[0m\u001B[0;34m\u001B[0m\u001B[0m\n\u001B[1;32m     22\u001B[0m \u001B[0maugmented_data_dir\u001B[0m \u001B[0;34m=\u001B[0m \u001B[0;34m\"../../../datasets/original/augmented_dataset\"\u001B[0m\u001B[0;34m\u001B[0m\u001B[0;34m\u001B[0m\u001B[0m\n\u001B[0;32m---> 23\u001B[0;31m \u001B[0mCLASS_NAMES\u001B[0m \u001B[0;34m=\u001B[0m \u001B[0mos\u001B[0m\u001B[0;34m.\u001B[0m\u001B[0mlistdir\u001B[0m\u001B[0;34m(\u001B[0m\u001B[0mdata_dir\u001B[0m\u001B[0;34m)\u001B[0m\u001B[0;34m\u001B[0m\u001B[0;34m\u001B[0m\u001B[0m\n\u001B[0m\u001B[1;32m     24\u001B[0m \u001B[0mdirs\u001B[0m \u001B[0;34m=\u001B[0m \u001B[0;34m[\u001B[0m\u001B[0mdata_dir\u001B[0m \u001B[0;34m+\u001B[0m \u001B[0;34m\"/\"\u001B[0m \u001B[0;34m+\u001B[0m \u001B[0mc\u001B[0m \u001B[0;32mfor\u001B[0m \u001B[0mc\u001B[0m \u001B[0;32min\u001B[0m \u001B[0mCLASS_NAMES\u001B[0m \u001B[0;34m]\u001B[0m\u001B[0;34m\u001B[0m\u001B[0;34m\u001B[0m\u001B[0m\n\u001B[1;32m     25\u001B[0m \u001B[0;34m\u001B[0m\u001B[0m\n",
      "\u001B[0;31mFileNotFoundError\u001B[0m: [Errno 2] No such file or directory: '../../../datasets/original'"
     ]
    }
   ],
   "source": [
    "import imgaug as ia\n",
    "import imgaug.augmenters as iaa\n",
    "import skimage.io as io\n",
    "import os\n",
    "import pandas as pd \n",
    "import numpy as np\n",
    "import tensorflow as tf\n",
    "import tensorflow.keras as keras\n",
    "import matplotlib.pyplot as plt\n",
    "import skimage.io as ioimage_stack\n",
    "import glob\n",
    "import uuid\n",
    "\n",
    "from skimage import data, color\n",
    "from skimage.transform import rescale, resize, downscale_local_mean\n",
    "from PIL import Image\n",
    "from tqdm import tqdm\n",
    "\n",
    "\n",
    "AUTOTUNE = tf.data.experimental.AUTOTUNE\n",
    "data_dir = \"../../../datasets/original\"\n",
    "augmented_data_dir = \"../../../datasets/original/augmented_dataset\"\n",
    "CLASS_NAMES = os.listdir(data_dir)\n",
    "dirs = [data_dir + \"/\" + c for c in CLASS_NAMES ]\n",
    "\n",
    "BATCH_SIZE = 32\n",
    "IMG_HEIGHT = 224\n",
    "IMG_WIDTH = 224\n",
    "\n",
    "\n",
    "def to_jpg_from(dateset_dir, classes, from_extension=\"jfif\"):\n",
    "    for cl in classes:\n",
    "        for file in tqdm(glob.glob(f\"{dateset_dir}/{cl}/*.{from_extension}\")):\n",
    "            im = Image.open(file)\n",
    "            rgb_im = im.convert('RGB')\n",
    "            rgb_im.save(file.replace(\".\"+from_extension, \"_\" + str(uuid.uuid4()) + \".jpg\"), quality=100)\n",
    "\n",
    "\n",
    "def rename_files(dateset_dir, classes, extension=\"jpg\"):\n",
    "    for cl in classes:\n",
    "        for i, file in tqdm(enumerate(glob.glob(f\"{dateset_dir}/{cl}/*.{extension}\"))):\n",
    "            num = str(i).rjust(6, \"0\")\n",
    "            cl_name = cl.replace(\" \", \"\")\n",
    "            os.rename(file, f\"{dateset_dir}/{cl}/{cl_name}_{num}.{extension}\")\n",
    "            \n",
    "    \n",
    "def show_batch(image_batch, label_batch):\n",
    "    plt.figure(figsize=(15,15))\n",
    "    for n in range(25):\n",
    "        ax = plt.subplot(5,5,n+1)\n",
    "        plt.imshow(image_batch[n])\n",
    "        plt.title(CLASS_NAMES[label_batch[n]==1][0].title())\n",
    "        plt.axis('off')\n",
    "        \n",
    "        \n",
    "def get_label(file_path):\n",
    "    # convert the path to a list of path components\n",
    "    parts = tf.strings.split(file_path, os.path.sep)\n",
    "    # The second to last is the class-directory\n",
    "    return parts[-2] == CLASS_NAMES\n",
    "\n",
    "\n",
    "def decode_img(img):\n",
    "    # convert the compressed string to a 3D uint8 tensor\n",
    "    img = tf.image.decode_jpeg(img, channels=3)\n",
    "    # Use `convert_image_dtype` to convert to floats in the [0,1] range.\n",
    "    img = tf.image.convert_image_dtype(img, tf.float32)\n",
    "    # resize the image to the desired size.\n",
    "    return tf.image.resize(img, [IMG_WIDTH, IMG_HEIGHT])\n",
    "\n",
    "\n",
    "def process_path(file_path):\n",
    "    label = get_label(file_path)\n",
    "    # load the raw data from the file as a string\n",
    "    img = tf.io.read_file(file_path)\n",
    "    img = decode_img(img)\n",
    "    return img, label\n",
    "\n",
    "\n",
    "def prepare_for_training(ds, cache=True, shuffle_buffer_size=1000):\n",
    "    # This is a small dataset, only load it once, and keep it in memory.\n",
    "    # use `.cache(filename)` to cache preprocessing work for datasets that don't\n",
    "    # fit in memory.\n",
    "    if cache:\n",
    "        if isinstance(cache, str):\n",
    "            ds = ds.cache(cache)\n",
    "        else:\n",
    "            ds = ds.cache()\n",
    "\n",
    "    ds = ds.shuffle(buffer_size=shuffle_buffer_size)\n",
    "    # Repeat forever\n",
    "    ds = ds.repeat()\n",
    "    ds = ds.batch(BATCH_SIZE)\n",
    "    # `prefetch` lets the dataset fetch batches in the background while the model\n",
    "    # is training.\n",
    "    ds = ds.prefetch(buffer_size=AUTOTUNE)\n",
    "\n",
    "    return ds"
   ]
  },
  {
   "cell_type": "markdown",
   "metadata": {},
   "source": [
    "## Unify extensions"
   ]
  },
  {
   "cell_type": "code",
   "execution_count": 2,
   "metadata": {},
   "outputs": [
    {
     "name": "stderr",
     "output_type": "stream",
     "text": [
      "100%|██████████| 1621/1621 [00:06<00:00, 231.72it/s]\n",
      "100%|██████████| 284/284 [00:00<00:00, 293.85it/s]\n"
     ]
    }
   ],
   "source": [
    "to_jpg_from(data_dir, CLASS_NAMES, from_extension=\"png\")"
   ]
  },
  {
   "cell_type": "markdown",
   "metadata": {},
   "source": [
    "## Unify filenames"
   ]
  },
  {
   "cell_type": "code",
   "execution_count": 3,
   "metadata": {},
   "outputs": [
    {
     "name": "stderr",
     "output_type": "stream",
     "text": [
      "14051it [00:00, 76462.80it/s]\n",
      "5950it [00:00, 85223.01it/s]\n"
     ]
    }
   ],
   "source": [
    "rename_files(data_dir, CLASS_NAMES)"
   ]
  },
  {
   "cell_type": "markdown",
   "metadata": {},
   "source": [
    "## Train, Test and Validation split"
   ]
  },
  {
   "cell_type": "code",
   "execution_count": 4,
   "metadata": {},
   "outputs": [],
   "source": [
    "class_images = {}\n",
    "\n",
    "for cl, data_path in zip(CLASS_NAMES, dirs):\n",
    "    class_images[cl] = np.array(io.collection.glob(data_path + \"/*.jpg\"))\n",
    "\n",
    "counts = [len(value) for key, value in class_images.items()]\n",
    "min_count = min(counts)\n",
    "\n",
    "from sklearn.model_selection import train_test_split\n",
    "sets = {}\n",
    "for key, value in class_images.items():\n",
    "    X = value\n",
    "    y = [key for item in value]\n",
    "    \n",
    "    X_train, X_test, y_train, y_test = train_test_split(X, y, test_size=0.15, random_state=1)\n",
    "\n",
    "    X_train, X_val, y_train, y_val = train_test_split(X_train, y_train, test_size=0.1755, random_state=1)\n",
    "        \n",
    "    sets[key + \"_train\"] = X_train\n",
    "    sets[key + \"_test\"] = X_test\n",
    "    sets[key + \"_val\"] = X_val"
   ]
  },
  {
   "cell_type": "code",
   "execution_count": 5,
   "metadata": {},
   "outputs": [
    {
     "name": "stdout",
     "output_type": "stream",
     "text": [
      "other_train -> 9847\n",
      "other_test -> 2108\n",
      "other_val -> 2096\n",
      "acros_train -> 4169\n",
      "acros_test -> 893\n",
      "acros_val -> 888\n"
     ]
    }
   ],
   "source": [
    "for key, value in sets.items():\n",
    "    print(key, \"->\", len(value))"
   ]
  },
  {
   "cell_type": "markdown",
   "metadata": {},
   "source": [
    "## Move files to train, test and val dirs"
   ]
  },
  {
   "cell_type": "code",
   "execution_count": 9,
   "metadata": {},
   "outputs": [],
   "source": [
    "output_dir = \"../../../datasets/train_ready_dataset\"\n",
    "\n",
    "set_folders = [\"train\", \"test\", \"val\"]\n",
    "\n",
    "# make sure that dirs exist\n",
    "\n",
    "try:\n",
    "    os.mkdir(output_dir)\n",
    "except Exception:\n",
    "    print(f\"'{output_dir}' already exists\")\n",
    "\n",
    "for set_folder in set_folders:\n",
    "    p = f\"{output_dir}/{set_folder}\"\n",
    "    try:\n",
    "        os.mkdir(p)\n",
    "    except Exception:\n",
    "        print(f\"'{p}' already exists\")\n",
    "    for cl in CLASS_NAMES:\n",
    "        p = f\"{output_dir}/{set_folder}/{cl}\"\n",
    "        try:\n",
    "            os.mkdir(p)\n",
    "        except Exception:\n",
    "            print(f\"'{p}' already exists\")"
   ]
  },
  {
   "cell_type": "code",
   "execution_count": 10,
   "metadata": {},
   "outputs": [
    {
     "name": "stderr",
     "output_type": "stream",
     "text": [
      "100%|██████████| 9847/9847 [00:01<00:00, 9601.04it/s]\n",
      "100%|██████████| 2108/2108 [00:00<00:00, 8998.63it/s]\n",
      "100%|██████████| 2096/2096 [00:00<00:00, 8866.27it/s]\n",
      "100%|██████████| 4169/4169 [00:00<00:00, 10077.10it/s]\n",
      "100%|██████████| 893/893 [00:00<00:00, 10530.60it/s]\n",
      "100%|██████████| 888/888 [00:00<00:00, 8870.79it/s]\n"
     ]
    }
   ],
   "source": [
    "from shutil import copy\n",
    "dest_path_base = \"../../../datasets/train_ready_dataset\"\n",
    "\n",
    "\n",
    "for key, value in sets.items():\n",
    "    splitted = key.split(\"_\")\n",
    "    cl = splitted[0]\n",
    "    set_folder = splitted[1]\n",
    "    \n",
    "    for file_path in tqdm(value):\n",
    "        file_name = file_path.split(\"\\\\\")[-1]\n",
    "        copy(file_path, f\"{dest_path_base}/{set_folder}/{cl}\")"
   ]
  },
  {
   "cell_type": "markdown",
   "metadata": {
    "pycharm": {
     "name": "#%% md\n"
    }
   },
   "source": [
    "## Check dateset sizes"
   ]
  },
  {
   "cell_type": "code",
   "execution_count": 27,
   "outputs": [
    {
     "data": {
      "text/plain": "<Figure size 432x288 with 1 Axes>",
      "image/png": "[encoded data removed]"
     },
     "metadata": {
      "needs_background": "light"
     },
     "output_type": "display_data"
    }
   ],
   "source": [
    "dict = {}\n",
    "for c in CLASS_NAMES:\n",
    "    dict[c] = []\n",
    "\n",
    "for key, value in sets.items():\n",
    "    arr = key.split(\"_\")\n",
    "    dict[arr[0]].append(len(value))\n",
    "\n",
    "x = np.arange(len(set_folders))  # the label locations\n",
    "width = 0.35  # the width of the bars\n",
    "\n",
    "fig, ax = plt.subplots()\n",
    "rects1 = ax.bar(x - width/2, dict['other'], width, label='Other')\n",
    "rects2 = ax.bar(x + width/2, dict['acros'], width, label='Acros')\n",
    "\n",
    "# Add some text for labels, title and custom x-axis tick labels, etc.\n",
    "ax.set_ylabel('Scores')\n",
    "ax.set_title('Scores by group and gender')\n",
    "ax.set_xticks(x)\n",
    "ax.set_xticklabels(set_folders)\n",
    "ax.legend()\n",
    "\n",
    "\n",
    "def autolabel(rects):\n",
    "    \"\"\"Attach a text label above each bar in *rects*, displaying its height.\"\"\"\n",
    "    for rect in rects:\n",
    "        height = rect.get_height()\n",
    "        ax.annotate('{}'.format(height),\n",
    "                    xy=(rect.get_x() + rect.get_width() / 2, height),\n",
    "                    xytext=(0, 3),  # 3 points vertical offset\n",
    "                    textcoords=\"offset points\",\n",
    "                    ha='center', va='bottom')\n",
    "\n",
    "\n",
    "autolabel(rects1)\n",
    "autolabel(rects2)\n",
    "\n",
    "fig.tight_layout()\n",
    "\n",
    "plt.show()"
   ],
   "metadata": {
    "collapsed": false,
    "pycharm": {
     "name": "#%%\n"
    }
   }
  },
  {
   "cell_type": "code",
   "execution_count": null,
   "outputs": [],
   "source": [
    "\n"
   ],
   "metadata": {
    "collapsed": false,
    "pycharm": {
     "name": "#%%\n"
    }
   }
  }
 ],
 "metadata": {
  "kernelspec": {
   "name": "python3",
   "language": "python",
   "display_name": "Python 3"
  },
  "language_info": {
   "codemirror_mode": {
    "name": "ipython",
    "version": 3
   },
   "file_extension": ".py",
   "mimetype": "text/x-python",
   "name": "python",
   "nbconvert_exporter": "python",
   "pygments_lexer": "ipython3",
   "version": "3.7.6"
  },
  "toc": {
   "base_numbering": 1,
   "nav_menu": {},
   "number_sections": true,
   "sideBar": true,
   "skip_h1_title": false,
   "title_cell": "Table of Contents",
   "title_sidebar": "Contents",
   "toc_cell": false,
   "toc_position": {},
   "toc_section_display": true,
   "toc_window_display": false
  },
  "varInspector": {
   "cols": {
    "lenName": 16,
    "lenType": 16,
    "lenVar": 40
   },
   "kernels_config": {
    "python": {
     "delete_cmd_postfix": "",
     "delete_cmd_prefix": "del ",
     "library": "var_list.py",
     "varRefreshCmd": "print(var_dic_list())"
    },
    "r": {
     "delete_cmd_postfix": ") ",
     "delete_cmd_prefix": "rm(",
     "library": "var_list.r",
     "varRefreshCmd": "cat(var_dic_list()) "
    }
   },
   "types_to_exclude": [
    "module",
    "function",
    "builtin_function_or_method",
    "instance",
    "_Feature"
   ],
   "window_display": false
  }
 },
 "nbformat": 4,
 "nbformat_minor": 4
}